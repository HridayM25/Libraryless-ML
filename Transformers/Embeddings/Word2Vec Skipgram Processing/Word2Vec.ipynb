{
 "cells": [
  {
   "cell_type": "code",
   "execution_count": 8,
   "id": "1e6b3c34",
   "metadata": {},
   "outputs": [],
   "source": [
    "import time"
   ]
  },
  {
   "cell_type": "code",
   "execution_count": 9,
   "id": "e2d8abed",
   "metadata": {},
   "outputs": [],
   "source": [
    "english_sentences = \"\"\"This paper reviews the artificial intelligent algorithms in engine management. This study\n",
    "provides a clear image of the current state of affairs for the past 15 years and provides fresh insights\n",
    "and improvements for future directions in the field of engine management. The scope of this paper\n",
    "comprises three main aspects to be discussed, namely, engine performance, engine control, and engine\n",
    "diagnosis. The first is associated with the need to control the basic characteristics that prove that the\n",
    "engine is working properly, namely, emission control and fuel economy.\"\"\""
   ]
  },
  {
   "cell_type": "code",
   "execution_count": 10,
   "id": "cf5a87cd",
   "metadata": {},
   "outputs": [],
   "source": [
    "def random_gen():\n",
    "    \"\"\"\n",
    "    Function to get a random values for the weights and the biases\n",
    "    \n",
    "    Returns: Random Integer\n",
    "    \n",
    "    \"\"\"\n",
    "    current=time.time()\n",
    "    last_digit=int(str(current-int(current))[-1])\n",
    "    if last_digit%2==0:\n",
    "        return last_digit\n",
    "    else:\n",
    "        return -1*last_digit"
   ]
  },
  {
   "cell_type": "code",
   "execution_count": 11,
   "id": "4e0308de",
   "metadata": {},
   "outputs": [],
   "source": [
    "def remove_tags(corpus):\n",
    "    \"\"\"\n",
    "    Args : List of words\n",
    "    \n",
    "    Cleans the words of any tags and special characters.\n",
    "    \n",
    "    \"\"\"\n",
    "    for number in range(len(corpus)):\n",
    "        corpus[number] = corpus[number].replace(\"\\n\", \" \")\n",
    "        corpus[number] = corpus[number].replace(\".\", \"\")\n",
    "        corpus[number] = corpus[number].lower()"
   ]
  },
  {
   "cell_type": "code",
   "execution_count": 12,
   "id": "c35e9560",
   "metadata": {},
   "outputs": [],
   "source": [
    "def create_vocabulary(words_list):\n",
    "    \"\"\"\n",
    "    Creates a vocabulary list that can be used for one hot encoding later.\n",
    "    \n",
    "    Args : List of sorted words\n",
    "    \n",
    "    Returns : Vocabulary List\n",
    "    \n",
    "    \"\"\"\n",
    "    vocab={}\n",
    "    index=0\n",
    "    for _ ,word in enumerate(words):\n",
    "        if word in vocab.keys():\n",
    "            continue\n",
    "        else:\n",
    "            vocab[word]=index\n",
    "            index+=1\n",
    "    return vocab"
   ]
  },
  {
   "cell_type": "code",
   "execution_count": 16,
   "id": "f6b439cd",
   "metadata": {},
   "outputs": [],
   "source": [
    "vocab = create_vocabulary(english_sentences)"
   ]
  },
  {
   "cell_type": "code",
   "execution_count": 18,
   "id": "e9ec14b0",
   "metadata": {},
   "outputs": [],
   "source": [
    "def one_hot_encoding(word, vocabulary=vocab):\n",
    "    \"\"\"\n",
    "    Returns the one hot encoding of the word with respect to the vocabulary\n",
    "    \n",
    "    Args : specific word to encode, vocabulary\n",
    "    \n",
    "    Returns : one hot encoding of the word\n",
    "    \n",
    "    \"\"\"\n",
    "    one_hot_list=[0 for x in range(len(vocabulary))]\n",
    "    one_hot_list[vocabulary[word]]=1\n",
    "    return one_hot_list"
   ]
  },
  {
   "cell_type": "code",
   "execution_count": 19,
   "id": "7478835e",
   "metadata": {},
   "outputs": [],
   "source": [
    "def create_feature_matrix(dimensions, vocabulary = vocab):\n",
    "    \"\"\"\n",
    "    Create the feature matrix which is used to make the embedding matrix\n",
    "    \n",
    "    Args : Dimensions of the embeddings specified, Vocabulary used.\n",
    "    \n",
    "    Returns : Feature Matrix\n",
    "    \n",
    "    \"\"\"\n",
    "    feature_matrix = [[(random_gen() + ((y*y/100)*random_gen()/10 + random_gen()) + x*random_gen())/100 for y in range(len(vocabulary))] for x in range(dimensions)]\n",
    "    return feature_matrix"
   ]
  },
  {
   "cell_type": "code",
   "execution_count": 21,
   "id": "8b437aee",
   "metadata": {},
   "outputs": [],
   "source": [
    "def create_embedding_matrix(word, feature_matrix=E):\n",
    "    \"\"\"\n",
    "    Create the embedding matrix for a word\n",
    "    \n",
    "    Args : Word, Feature Matrix \n",
    "    \n",
    "    Returns : Embedding Matrix\n",
    "    \n",
    "    \"\"\"\n",
    "    embedding_matrix=[]\n",
    "    one_hot_list=one_hot_encoding(word)\n",
    "    for i in range(len(feature_matrix)):\n",
    "        summ=0\n",
    "        for j in range(len(feature_matrix[0])):\n",
    "            summ+=one_hot_list[j] * feature_matrix[i][j]\n",
    "        embedding_matrix.append(summ)\n",
    "    return embedding_matrix"
   ]
  },
  {
   "cell_type": "code",
   "execution_count": 20,
   "id": "a680800a",
   "metadata": {},
   "outputs": [],
   "source": [
    "words= english_sentences.split()\n",
    "remove_tags(words)\n",
    "words.sort()\n",
    "vocab = create_vocabulary(words)\n",
    "E = create_feature_matrix(3)"
   ]
  },
  {
   "cell_type": "code",
   "execution_count": 22,
   "id": "a4542796",
   "metadata": {},
   "outputs": [],
   "source": [
    "#Next word prediction is a good way to start things\n",
    "\n",
    "unsorted_words = english_sentences.split()"
   ]
  }
 ],
 "metadata": {
  "kernelspec": {
   "display_name": "Python 3 (ipykernel)",
   "language": "python",
   "name": "python3"
  },
  "language_info": {
   "codemirror_mode": {
    "name": "ipython",
    "version": 3
   },
   "file_extension": ".py",
   "mimetype": "text/x-python",
   "name": "python",
   "nbconvert_exporter": "python",
   "pygments_lexer": "ipython3",
   "version": "3.9.7"
  }
 },
 "nbformat": 4,
 "nbformat_minor": 5
}
