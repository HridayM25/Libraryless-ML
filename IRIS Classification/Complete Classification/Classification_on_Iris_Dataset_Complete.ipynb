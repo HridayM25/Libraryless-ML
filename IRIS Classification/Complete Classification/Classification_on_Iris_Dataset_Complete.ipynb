{
  "nbformat": 4,
  "nbformat_minor": 0,
  "metadata": {
    "colab": {
      "provenance": []
    },
    "kernelspec": {
      "name": "python3",
      "display_name": "Python 3"
    },
    "language_info": {
      "name": "python"
    }
  },
  "cells": [
    {
      "cell_type": "markdown",
      "source": [
        "**Have used the sklearn library only for the iris dataset, no further use of it will be done.**"
      ],
      "metadata": {
        "id": "MD8iVymJbi5N"
      }
    },
    {
      "cell_type": "code",
      "source": [
        "from sklearn import datasets\n",
        "iris=datasets.load_iris()\n",
        "X=iris.data\n",
        "y=iris.target"
      ],
      "metadata": {
        "id": "FcGYlYQEXSpC"
      },
      "execution_count": 99,
      "outputs": []
    },
    {
      "cell_type": "markdown",
      "source": [
        "The only library we will be using for the entirety of the task."
      ],
      "metadata": {
        "id": "DpN5GpwZbrf9"
      }
    },
    {
      "cell_type": "code",
      "source": [
        "import time"
      ],
      "metadata": {
        "id": "c_i8lCz8eCwK"
      },
      "execution_count": 100,
      "outputs": []
    },
    {
      "cell_type": "markdown",
      "source": [
        "The randon_gen() function will generate a random number (integer), which will either be added or subtracted based on a condition."
      ],
      "metadata": {
        "id": "8ckCaftFb0y3"
      }
    },
    {
      "cell_type": "code",
      "source": [
        "def random_gen():\n",
        "  current=time.time()\n",
        "  last_digit=int(str(current-int(current))[-1])\n",
        "  if last_digit%2==0:\n",
        "    return last_digit\n",
        "  else:\n",
        "    return -1*last_digit"
      ],
      "metadata": {
        "id": "TtM1DrE-eHng"
      },
      "execution_count": 101,
      "outputs": []
    },
    {
      "cell_type": "markdown",
      "source": [
        "We need to convert the data and the targets to lists since they are originally ndarrays, and we will not be using the numpy library anywhere"
      ],
      "metadata": {
        "id": "wpYbQ0ZTcEVV"
      }
    },
    {
      "cell_type": "code",
      "source": [
        "#Convert both variables to list since originally they are ndarrays\n",
        "X=X.tolist()\n",
        "y=y.tolist()"
      ],
      "metadata": {
        "id": "myvWNLSoXbcc"
      },
      "execution_count": 102,
      "outputs": []
    },
    {
      "cell_type": "code",
      "source": [
        "#Helper Functions defined here:\n",
        "\n",
        "#Function for natural log, later can be used for log base 10. Can also try the Taylor Definition, but this seemed easier. I will compare precision later.\n",
        "def ln(x):\n",
        "    n = 10000000.0\n",
        "    return n * ((x ** (1/n)) - 1)\n",
        "\n",
        "#Can convert to base 10\n",
        "def log(x):\n",
        "  return ln(x)/ln(10)\n",
        "\n",
        "#Function to calculate derivative of a function\n",
        "def derivative(value,function):\n",
        "  step=0.000001\n",
        "  return (function(value+step) - function(value-step))/(2*step)\n",
        "\n",
        "#Function to calculate the sigmoid\n",
        "e=2.71828\n",
        "def sigmoid(value):\n",
        "  return 1/(1+e**(-1*value))\n",
        "\n",
        "#Function to calculate the derivative of Binary Cross Entropy Loss\n",
        "def bce_loss_derivative(y_true,z):\n",
        "  return (y_true-z)/(z)*(1-z)\n",
        "\n",
        "#Function to calculate the derivative of the sigmoid function\n",
        "def sigmoid_derivative(value):\n",
        "  return sigmoid(value) * (1-sigmoid(value))\n",
        "\n",
        "#Function to calculate the Binary Cross Entropy Loss\n",
        "def bce_loss(value,y_true):\n",
        "  return -1*((y_true * log(value)) + ((1-y_true) * log(1-value)))\n",
        "\n",
        "#Function to calculate the softmax\n",
        "def softmax(layer):\n",
        "  sum=0\n",
        "  for i in range(len(layer)):\n",
        "    sum+= 2.71828**layer[i]\n",
        "  for i in range(len(layer)):\n",
        "    layer[i]=2.71828**layer[i]/sum\n",
        "\n",
        "#Function to calculate categorical loss\n",
        "def categorical_loss(layer,y_true):\n",
        "  loss=log(layer[y_true])\n",
        "  return loss\n",
        "\n",
        "#Function to calculate derivative of categorical loss\n",
        "def cl_derivative(value,y_true):\n",
        "  one_hot=[0,0,0]\n",
        "  one_hot[y_true]=1\n",
        "  return value-one_hot[0]\n",
        "\n",
        "#Function to take deepcopy of an object\n",
        "def deep_copy(obj):\n",
        "    if isinstance(obj, list):\n",
        "        return [deep_copy(item) for item in obj]\n",
        "    elif isinstance(obj, dict):\n",
        "        return {key: deep_copy(value) for key, value in obj.items()}\n",
        "    else:\n",
        "        return obj"
      ],
      "metadata": {
        "id": "hs_DsIfPggMr"
      },
      "execution_count": 103,
      "outputs": []
    },
    {
      "cell_type": "markdown",
      "source": [
        "This is just to see what kind of classification problem is there, and the number of training examples, and features."
      ],
      "metadata": {
        "id": "HlnzjkVwcQN6"
      }
    },
    {
      "cell_type": "code",
      "source": [
        "print(\"The number of training examples are : \" + str(len(X)))\n",
        "print(\"The number of attributes/features are : \" + str(len(X[0])))\n",
        "print(\"The number of unique classes are : \" + str(len(set(y))))"
      ],
      "metadata": {
        "colab": {
          "base_uri": "https://localhost:8080/"
        },
        "id": "zh1IyoIdYx0l",
        "outputId": "e8227943-d68b-44c1-bb28-85a5ab8f38f2"
      },
      "execution_count": 104,
      "outputs": [
        {
          "output_type": "stream",
          "name": "stdout",
          "text": [
            "The number of training examples are : 150\n",
            "The number of attributes/features are : 4\n",
            "The number of unique classes are : 3\n"
          ]
        }
      ]
    },
    {
      "cell_type": "markdown",
      "source": [
        "Since there are 3 classes, this becomes a multi-class classification problem.\n",
        "Hence, we can structure our architecture in such a way that the final layer has 3 neurons, over which we can apply softmax, and then further find the loss using categorical loss."
      ],
      "metadata": {
        "id": "M3tU3E6VcciD"
      }
    },
    {
      "cell_type": "code",
      "source": [
        "X"
      ],
      "metadata": {
        "colab": {
          "base_uri": "https://localhost:8080/"
        },
        "id": "Q5cvB7W3YLPq",
        "outputId": "bc8950a0-170a-427e-f878-1592871767af"
      },
      "execution_count": 105,
      "outputs": [
        {
          "output_type": "execute_result",
          "data": {
            "text/plain": [
              "[[5.1, 3.5, 1.4, 0.2],\n",
              " [4.9, 3.0, 1.4, 0.2],\n",
              " [4.7, 3.2, 1.3, 0.2],\n",
              " [4.6, 3.1, 1.5, 0.2],\n",
              " [5.0, 3.6, 1.4, 0.2],\n",
              " [5.4, 3.9, 1.7, 0.4],\n",
              " [4.6, 3.4, 1.4, 0.3],\n",
              " [5.0, 3.4, 1.5, 0.2],\n",
              " [4.4, 2.9, 1.4, 0.2],\n",
              " [4.9, 3.1, 1.5, 0.1],\n",
              " [5.4, 3.7, 1.5, 0.2],\n",
              " [4.8, 3.4, 1.6, 0.2],\n",
              " [4.8, 3.0, 1.4, 0.1],\n",
              " [4.3, 3.0, 1.1, 0.1],\n",
              " [5.8, 4.0, 1.2, 0.2],\n",
              " [5.7, 4.4, 1.5, 0.4],\n",
              " [5.4, 3.9, 1.3, 0.4],\n",
              " [5.1, 3.5, 1.4, 0.3],\n",
              " [5.7, 3.8, 1.7, 0.3],\n",
              " [5.1, 3.8, 1.5, 0.3],\n",
              " [5.4, 3.4, 1.7, 0.2],\n",
              " [5.1, 3.7, 1.5, 0.4],\n",
              " [4.6, 3.6, 1.0, 0.2],\n",
              " [5.1, 3.3, 1.7, 0.5],\n",
              " [4.8, 3.4, 1.9, 0.2],\n",
              " [5.0, 3.0, 1.6, 0.2],\n",
              " [5.0, 3.4, 1.6, 0.4],\n",
              " [5.2, 3.5, 1.5, 0.2],\n",
              " [5.2, 3.4, 1.4, 0.2],\n",
              " [4.7, 3.2, 1.6, 0.2],\n",
              " [4.8, 3.1, 1.6, 0.2],\n",
              " [5.4, 3.4, 1.5, 0.4],\n",
              " [5.2, 4.1, 1.5, 0.1],\n",
              " [5.5, 4.2, 1.4, 0.2],\n",
              " [4.9, 3.1, 1.5, 0.2],\n",
              " [5.0, 3.2, 1.2, 0.2],\n",
              " [5.5, 3.5, 1.3, 0.2],\n",
              " [4.9, 3.6, 1.4, 0.1],\n",
              " [4.4, 3.0, 1.3, 0.2],\n",
              " [5.1, 3.4, 1.5, 0.2],\n",
              " [5.0, 3.5, 1.3, 0.3],\n",
              " [4.5, 2.3, 1.3, 0.3],\n",
              " [4.4, 3.2, 1.3, 0.2],\n",
              " [5.0, 3.5, 1.6, 0.6],\n",
              " [5.1, 3.8, 1.9, 0.4],\n",
              " [4.8, 3.0, 1.4, 0.3],\n",
              " [5.1, 3.8, 1.6, 0.2],\n",
              " [4.6, 3.2, 1.4, 0.2],\n",
              " [5.3, 3.7, 1.5, 0.2],\n",
              " [5.0, 3.3, 1.4, 0.2],\n",
              " [7.0, 3.2, 4.7, 1.4],\n",
              " [6.4, 3.2, 4.5, 1.5],\n",
              " [6.9, 3.1, 4.9, 1.5],\n",
              " [5.5, 2.3, 4.0, 1.3],\n",
              " [6.5, 2.8, 4.6, 1.5],\n",
              " [5.7, 2.8, 4.5, 1.3],\n",
              " [6.3, 3.3, 4.7, 1.6],\n",
              " [4.9, 2.4, 3.3, 1.0],\n",
              " [6.6, 2.9, 4.6, 1.3],\n",
              " [5.2, 2.7, 3.9, 1.4],\n",
              " [5.0, 2.0, 3.5, 1.0],\n",
              " [5.9, 3.0, 4.2, 1.5],\n",
              " [6.0, 2.2, 4.0, 1.0],\n",
              " [6.1, 2.9, 4.7, 1.4],\n",
              " [5.6, 2.9, 3.6, 1.3],\n",
              " [6.7, 3.1, 4.4, 1.4],\n",
              " [5.6, 3.0, 4.5, 1.5],\n",
              " [5.8, 2.7, 4.1, 1.0],\n",
              " [6.2, 2.2, 4.5, 1.5],\n",
              " [5.6, 2.5, 3.9, 1.1],\n",
              " [5.9, 3.2, 4.8, 1.8],\n",
              " [6.1, 2.8, 4.0, 1.3],\n",
              " [6.3, 2.5, 4.9, 1.5],\n",
              " [6.1, 2.8, 4.7, 1.2],\n",
              " [6.4, 2.9, 4.3, 1.3],\n",
              " [6.6, 3.0, 4.4, 1.4],\n",
              " [6.8, 2.8, 4.8, 1.4],\n",
              " [6.7, 3.0, 5.0, 1.7],\n",
              " [6.0, 2.9, 4.5, 1.5],\n",
              " [5.7, 2.6, 3.5, 1.0],\n",
              " [5.5, 2.4, 3.8, 1.1],\n",
              " [5.5, 2.4, 3.7, 1.0],\n",
              " [5.8, 2.7, 3.9, 1.2],\n",
              " [6.0, 2.7, 5.1, 1.6],\n",
              " [5.4, 3.0, 4.5, 1.5],\n",
              " [6.0, 3.4, 4.5, 1.6],\n",
              " [6.7, 3.1, 4.7, 1.5],\n",
              " [6.3, 2.3, 4.4, 1.3],\n",
              " [5.6, 3.0, 4.1, 1.3],\n",
              " [5.5, 2.5, 4.0, 1.3],\n",
              " [5.5, 2.6, 4.4, 1.2],\n",
              " [6.1, 3.0, 4.6, 1.4],\n",
              " [5.8, 2.6, 4.0, 1.2],\n",
              " [5.0, 2.3, 3.3, 1.0],\n",
              " [5.6, 2.7, 4.2, 1.3],\n",
              " [5.7, 3.0, 4.2, 1.2],\n",
              " [5.7, 2.9, 4.2, 1.3],\n",
              " [6.2, 2.9, 4.3, 1.3],\n",
              " [5.1, 2.5, 3.0, 1.1],\n",
              " [5.7, 2.8, 4.1, 1.3],\n",
              " [6.3, 3.3, 6.0, 2.5],\n",
              " [5.8, 2.7, 5.1, 1.9],\n",
              " [7.1, 3.0, 5.9, 2.1],\n",
              " [6.3, 2.9, 5.6, 1.8],\n",
              " [6.5, 3.0, 5.8, 2.2],\n",
              " [7.6, 3.0, 6.6, 2.1],\n",
              " [4.9, 2.5, 4.5, 1.7],\n",
              " [7.3, 2.9, 6.3, 1.8],\n",
              " [6.7, 2.5, 5.8, 1.8],\n",
              " [7.2, 3.6, 6.1, 2.5],\n",
              " [6.5, 3.2, 5.1, 2.0],\n",
              " [6.4, 2.7, 5.3, 1.9],\n",
              " [6.8, 3.0, 5.5, 2.1],\n",
              " [5.7, 2.5, 5.0, 2.0],\n",
              " [5.8, 2.8, 5.1, 2.4],\n",
              " [6.4, 3.2, 5.3, 2.3],\n",
              " [6.5, 3.0, 5.5, 1.8],\n",
              " [7.7, 3.8, 6.7, 2.2],\n",
              " [7.7, 2.6, 6.9, 2.3],\n",
              " [6.0, 2.2, 5.0, 1.5],\n",
              " [6.9, 3.2, 5.7, 2.3],\n",
              " [5.6, 2.8, 4.9, 2.0],\n",
              " [7.7, 2.8, 6.7, 2.0],\n",
              " [6.3, 2.7, 4.9, 1.8],\n",
              " [6.7, 3.3, 5.7, 2.1],\n",
              " [7.2, 3.2, 6.0, 1.8],\n",
              " [6.2, 2.8, 4.8, 1.8],\n",
              " [6.1, 3.0, 4.9, 1.8],\n",
              " [6.4, 2.8, 5.6, 2.1],\n",
              " [7.2, 3.0, 5.8, 1.6],\n",
              " [7.4, 2.8, 6.1, 1.9],\n",
              " [7.9, 3.8, 6.4, 2.0],\n",
              " [6.4, 2.8, 5.6, 2.2],\n",
              " [6.3, 2.8, 5.1, 1.5],\n",
              " [6.1, 2.6, 5.6, 1.4],\n",
              " [7.7, 3.0, 6.1, 2.3],\n",
              " [6.3, 3.4, 5.6, 2.4],\n",
              " [6.4, 3.1, 5.5, 1.8],\n",
              " [6.0, 3.0, 4.8, 1.8],\n",
              " [6.9, 3.1, 5.4, 2.1],\n",
              " [6.7, 3.1, 5.6, 2.4],\n",
              " [6.9, 3.1, 5.1, 2.3],\n",
              " [5.8, 2.7, 5.1, 1.9],\n",
              " [6.8, 3.2, 5.9, 2.3],\n",
              " [6.7, 3.3, 5.7, 2.5],\n",
              " [6.7, 3.0, 5.2, 2.3],\n",
              " [6.3, 2.5, 5.0, 1.9],\n",
              " [6.5, 3.0, 5.2, 2.0],\n",
              " [6.2, 3.4, 5.4, 2.3],\n",
              " [5.9, 3.0, 5.1, 1.8]]"
            ]
          },
          "metadata": {},
          "execution_count": 105
        }
      ]
    },
    {
      "cell_type": "markdown",
      "source": [
        "We now define the architecture. Feel free to play around with the values of num_layers, and add your own neurons per layer."
      ],
      "metadata": {
        "id": "fjnyc-zjBsVP"
      }
    },
    {
      "cell_type": "code",
      "source": [
        "#Choose architecture here:\n",
        "num_layers = 5\n",
        "#That implies 1 input layer, 4 hidden layers, and 1 output layer\n",
        "\n",
        "#######################################################\n",
        "#no_of_neurons=[]\n",
        "#for i in num_layers:\n",
        "# l=int(input(\"Enter number of neurons :\"))\n",
        "# no_of_neurons.append(l)\n",
        "#######################################################\n",
        "\n",
        "no_of_neurons=[4,5,4,3,4]\n",
        "final_layer=(len(set(y)))\n",
        "no_of_neurons.append(final_layer)\n",
        "n=no_of_neurons"
      ],
      "metadata": {
        "id": "9m1jLSMlYMw3"
      },
      "execution_count": 207,
      "outputs": []
    },
    {
      "cell_type": "code",
      "source": [
        "n"
      ],
      "metadata": {
        "colab": {
          "base_uri": "https://localhost:8080/"
        },
        "id": "YIPWrPH-pS5N",
        "outputId": "c4aac1b5-1f87-49f2-a9a6-f987b290a263"
      },
      "execution_count": 107,
      "outputs": [
        {
          "output_type": "execute_result",
          "data": {
            "text/plain": [
              "[4, 5, 4, 3, 4, 3]"
            ]
          },
          "metadata": {},
          "execution_count": 107
        }
      ]
    },
    {
      "cell_type": "markdown",
      "source": [
        "This is our architecture. The last layer as mentioned is the number of classes to help us find the softmax."
      ],
      "metadata": {
        "id": "l6vcLfl4c7cv"
      }
    },
    {
      "cell_type": "code",
      "source": [
        "#define the weights here:\n",
        "Weights=[]\n",
        "for i in range(len(n)-1):\n",
        "  current=time.time()\n",
        "  m=int(str(current-int(current))[-1])\n",
        "  Weights.append([[(m/10 + random_gen())/10 for x in range(n[i+1])] for y in range(n[i])])"
      ],
      "metadata": {
        "id": "FoEb5IRwaMwz"
      },
      "execution_count": 185,
      "outputs": []
    },
    {
      "cell_type": "code",
      "source": [
        "#define the biases here:\n",
        "Biases=[]\n",
        "for i in range(len(n)-1):\n",
        "  current=time.time()\n",
        "  m=int(str(current-int(current))[-1])\n",
        "  Biases.append([(m/10+ random_gen())/10 for x in range(n[i+1])])"
      ],
      "metadata": {
        "id": "MhoFk4usblUO"
      },
      "execution_count": 186,
      "outputs": []
    },
    {
      "cell_type": "code",
      "source": [
        "#define the gradients of weights here:\n",
        "Weights_Grad=[]\n",
        "for i in range(len(n)-1):\n",
        "  Weights_Grad.append([[0 for x in range(n[i+1])] for y in range(n[i])])"
      ],
      "metadata": {
        "id": "Hig6reaWh4dy"
      },
      "execution_count": 187,
      "outputs": []
    },
    {
      "cell_type": "code",
      "source": [
        "#define the gradients of biases here:\n",
        "Biases_Grad=[]\n",
        "for i in range(len(n)-1):\n",
        "  Biases_Grad.append([0 for x in range(n[i+1])])"
      ],
      "metadata": {
        "id": "KTtjY7_unPyQ"
      },
      "execution_count": 188,
      "outputs": []
    },
    {
      "cell_type": "code",
      "source": [
        "#define the activations here\n",
        "Activations=[]\n",
        "for i in range(len(n)-1):\n",
        "  Activations.append([0 for x in range(n[i+1])])"
      ],
      "metadata": {
        "id": "GwXJzIFBiv1e"
      },
      "execution_count": 189,
      "outputs": []
    },
    {
      "cell_type": "code",
      "source": [
        "#define cached activations here\n",
        "ad=[]\n",
        "for i in range(len(n)-1):\n",
        "  ad.append([0 for x in range(n[i+1])])"
      ],
      "metadata": {
        "id": "h2AXBTlFZW5p"
      },
      "execution_count": 190,
      "outputs": []
    },
    {
      "cell_type": "markdown",
      "source": [
        "Check the weights, biases here.\n",
        "The gradients of weights as well as the activations are initialized to 0."
      ],
      "metadata": {
        "id": "cMRNDPpwdfUL"
      }
    },
    {
      "cell_type": "code",
      "source": [
        "Weights"
      ],
      "metadata": {
        "colab": {
          "base_uri": "https://localhost:8080/"
        },
        "id": "uedi1p6CgRFF",
        "outputId": "74d0733e-5fdb-423d-d159-f239b461d465"
      },
      "execution_count": 191,
      "outputs": [
        {
          "output_type": "execute_result",
          "data": {
            "text/plain": [
              "[[[-0.48,\n",
              "   0.22000000000000003,\n",
              "   -0.8800000000000001,\n",
              "   -0.27999999999999997,\n",
              "   -0.48],\n",
              "  [-0.6799999999999999, -0.48, -0.27999999999999997, -0.48, 0.82],\n",
              "  [0.62,\n",
              "   -0.48,\n",
              "   -0.6799999999999999,\n",
              "   -0.8800000000000001,\n",
              "   -0.27999999999999997],\n",
              "  [-0.8800000000000001, -0.08, 0.42000000000000004, 0.82, -0.08]],\n",
              " [[-0.45999999999999996, 0.64, 0.8400000000000001, 0.24],\n",
              "  [0.64, -0.86, -0.06, 0.44000000000000006],\n",
              "  [0.44000000000000006, -0.06, -0.26, 0.64],\n",
              "  [-0.06, -0.26, 0.64, -0.86],\n",
              "  [-0.45999999999999996,\n",
              "   -0.6599999999999999,\n",
              "   -0.6599999999999999,\n",
              "   -0.6599999999999999]],\n",
              " [[0.44000000000000006, 0.64, 0.64],\n",
              "  [-0.26, -0.45999999999999996, -0.6599999999999999],\n",
              "  [0.44000000000000006, 0.64, -0.26],\n",
              "  [-0.45999999999999996, 0.64, -0.6599999999999999]],\n",
              " [[-0.82, 0.27999999999999997, -0.22000000000000003, 0.6799999999999999],\n",
              "  [0.6799999999999999,\n",
              "   -0.019999999999999997,\n",
              "   0.27999999999999997,\n",
              "   0.27999999999999997],\n",
              "  [0.6799999999999999, -0.62, 0.8800000000000001, 0.8800000000000001]],\n",
              " [[-0.41, 0.6900000000000001, 0.89],\n",
              "  [0.29, -0.21000000000000002, -0.21000000000000002],\n",
              "  [-0.61, -0.61, -0.8099999999999999],\n",
              "  [0.49000000000000005, 0.49000000000000005, -0.41]]]"
            ]
          },
          "metadata": {},
          "execution_count": 191
        }
      ]
    },
    {
      "cell_type": "code",
      "source": [
        "Biases"
      ],
      "metadata": {
        "colab": {
          "base_uri": "https://localhost:8080/"
        },
        "id": "PwuX7v0ngXaX",
        "outputId": "9daa8497-00e9-4ddc-ed44-c643cc77cfc1"
      },
      "execution_count": 192,
      "outputs": [
        {
          "output_type": "execute_result",
          "data": {
            "text/plain": [
              "[[-0.6900000000000001,\n",
              "  0.21000000000000002,\n",
              "  0.41,\n",
              "  -0.49000000000000005,\n",
              "  0.8099999999999999],\n",
              " [-0.05, -0.45, 0.65, -0.45],\n",
              " [-0.49000000000000005, -0.6900000000000001, -0.89],\n",
              " [-0.48, -0.48, 0.62, 0.62],\n",
              " [0.27, 0.27, -0.22999999999999998]]"
            ]
          },
          "metadata": {},
          "execution_count": 192
        }
      ]
    },
    {
      "cell_type": "code",
      "source": [
        "Weights_Grad"
      ],
      "metadata": {
        "colab": {
          "base_uri": "https://localhost:8080/"
        },
        "id": "WzoBzqRiiAnu",
        "outputId": "623184ae-3c9a-437b-fbb3-72deb48e783e"
      },
      "execution_count": 193,
      "outputs": [
        {
          "output_type": "execute_result",
          "data": {
            "text/plain": [
              "[[[0, 0, 0, 0, 0], [0, 0, 0, 0, 0], [0, 0, 0, 0, 0], [0, 0, 0, 0, 0]],\n",
              " [[0, 0, 0, 0], [0, 0, 0, 0], [0, 0, 0, 0], [0, 0, 0, 0], [0, 0, 0, 0]],\n",
              " [[0, 0, 0], [0, 0, 0], [0, 0, 0], [0, 0, 0]],\n",
              " [[0, 0, 0, 0], [0, 0, 0, 0], [0, 0, 0, 0]],\n",
              " [[0, 0, 0], [0, 0, 0], [0, 0, 0], [0, 0, 0]]]"
            ]
          },
          "metadata": {},
          "execution_count": 193
        }
      ]
    },
    {
      "cell_type": "code",
      "source": [
        "Biases_Grad"
      ],
      "metadata": {
        "colab": {
          "base_uri": "https://localhost:8080/"
        },
        "id": "M_AnorWpoATm",
        "outputId": "85eb6ab4-9279-44ff-95c2-813a5926fc89"
      },
      "execution_count": 194,
      "outputs": [
        {
          "output_type": "execute_result",
          "data": {
            "text/plain": [
              "[[0, 0, 0, 0, 0], [0, 0, 0, 0], [0, 0, 0], [0, 0, 0, 0], [0, 0, 0]]"
            ]
          },
          "metadata": {},
          "execution_count": 194
        }
      ]
    },
    {
      "cell_type": "code",
      "source": [
        "Activations"
      ],
      "metadata": {
        "colab": {
          "base_uri": "https://localhost:8080/"
        },
        "id": "7rcM23VNi-Ad",
        "outputId": "77713ea8-aafd-413d-ca59-442cafe06867"
      },
      "execution_count": 195,
      "outputs": [
        {
          "output_type": "execute_result",
          "data": {
            "text/plain": [
              "[[0, 0, 0, 0, 0], [0, 0, 0, 0], [0, 0, 0], [0, 0, 0, 0], [0, 0, 0]]"
            ]
          },
          "metadata": {},
          "execution_count": 195
        }
      ]
    },
    {
      "cell_type": "code",
      "source": [
        "w=Weights\n",
        "b=Biases\n",
        "w_grad=Weights_Grad\n",
        "b_grad=Biases_Grad\n",
        "a=Activations\n",
        "#ca=Cached_Activations\n",
        "w_original=deep_copy(w)\n",
        "#b_original=deep_copy(b)"
      ],
      "metadata": {
        "id": "ucAEGdmXjHfS"
      },
      "execution_count": 196,
      "outputs": []
    },
    {
      "cell_type": "markdown",
      "source": [
        "Split the dataset into train and test, into a 7:3 ratio. Hence 105 for training and 45 for testing.\n",
        "\n",
        "Also check the number of instances of each class, to see if any methods need to be applied to mitigate the effects of class imbalance.\n",
        "\n",
        "Here, advantage is taken of the fact that all classes occur in equal number, and hence slicing values are chosen in such a way to ensure we have an equal number of instances of each class in the training and testing data."
      ],
      "metadata": {
        "id": "xHRRm6WpdvyF"
      }
    },
    {
      "cell_type": "code",
      "source": [
        "indices = [slice(0, 35), slice(50, 85), slice(100, 135)]\n",
        "test_indices=[slice(35,50), slice(85,100), slice(135,150)]\n",
        "X_train = []\n",
        "y_train=[]\n",
        "X_test=[]\n",
        "y_test=[]\n",
        "\n",
        "for id in indices:\n",
        "    X_train += X[id]\n",
        "    y_train += y[id]\n",
        "for id in test_indices:\n",
        "  X_test+= X[id]\n",
        "  y_test+= y[id]"
      ],
      "metadata": {
        "id": "dlBaI4DbjUAp"
      },
      "execution_count": 197,
      "outputs": []
    },
    {
      "cell_type": "code",
      "source": [
        "len(X_train), len(X_test)\n",
        "#Checks out!"
      ],
      "metadata": {
        "colab": {
          "base_uri": "https://localhost:8080/"
        },
        "id": "A_bEPZYjoG2P",
        "outputId": "ee83ebf2-e9d6-413a-a849-4de5c2f161e7"
      },
      "execution_count": 198,
      "outputs": [
        {
          "output_type": "execute_result",
          "data": {
            "text/plain": [
              "(105, 45)"
            ]
          },
          "metadata": {},
          "execution_count": 198
        }
      ]
    },
    {
      "cell_type": "code",
      "source": [
        "count0=y.count(0)\n",
        "count1=y.count(1)\n",
        "count2=y.count(2)"
      ],
      "metadata": {
        "id": "NU1i56K2jpia"
      },
      "execution_count": 199,
      "outputs": []
    },
    {
      "cell_type": "code",
      "source": [
        "count0,count1,count2\n",
        "#(0-49) , (50,99) , (100,149)"
      ],
      "metadata": {
        "colab": {
          "base_uri": "https://localhost:8080/"
        },
        "id": "VOHYxTdpkMMc",
        "outputId": "8e527772-3cbe-462d-97ae-a39493dbd078"
      },
      "execution_count": 200,
      "outputs": [
        {
          "output_type": "execute_result",
          "data": {
            "text/plain": [
              "(50, 50, 50)"
            ]
          },
          "metadata": {},
          "execution_count": 200
        }
      ]
    },
    {
      "cell_type": "code",
      "source": [
        "ca=[]"
      ],
      "metadata": {
        "id": "-ntVE9JuZ3pY"
      },
      "execution_count": 176,
      "outputs": []
    },
    {
      "cell_type": "markdown",
      "source": [
        "Functions forward_pass and get_loss are defined here. Next is the function calculate_ad, which caches the values of dL/dZi."
      ],
      "metadata": {
        "id": "KBhXuztYAa8-"
      }
    },
    {
      "cell_type": "code",
      "source": [
        "def forward_pass(message,true_label,X):\n",
        "  input_layer=X[message]\n",
        "  for i in range(len(n)-2):\n",
        "    for j in range(n[i+1]):\n",
        "      for k in range(n[i]):\n",
        "        a[i][j]+=w[i][k][j] * input_layer[k]\n",
        "      a[i][j] += b[i][j]\n",
        "      a[i][j] = sigmoid(a[i][j])\n",
        "    input_layer = a[i]\n",
        "  softmax_layer=a[-2]\n",
        "  i=len(n)-2\n",
        "  for j in range(n[i+1]):\n",
        "    for k in range(n[i]):\n",
        "      a[i][j]+=w[i][k][j] * input_layer[k]\n",
        "    a[i][j]+=b[i][j]\n",
        "  output_layer=a[-1]\n",
        "  softmax(output_layer)\n",
        "  t=deep_copy(a)\n",
        "  loss=categorical_loss(output_layer,true_label)\n",
        "  for xx in range(len(a)):\n",
        "    for yy in range(len(a[xx])):\n",
        "      a[xx][yy]=0\n",
        "  return (loss,t)\n",
        "\n",
        "def get_loss(X_train,y_train):\n",
        "  net_loss=0\n",
        "  ca=[]\n",
        "  for message in range(len(X_train)):\n",
        "    loss,t=forward_pass(message,y_train[message],X_train)\n",
        "    net_loss+=loss\n",
        "    ca.append(t)\n",
        "\n",
        "  return (net_loss,ca)"
      ],
      "metadata": {
        "id": "cQQihKjw63pA"
      },
      "execution_count": 201,
      "outputs": []
    },
    {
      "cell_type": "code",
      "source": [
        "def calculate_ad(layer):\n",
        "  for i in range(len(w[layer])):\n",
        "    z=0\n",
        "    for message in range(len(X_train)):\n",
        "      z=ad[layer][0]*sigmoid_derivative(cache[message][layer][0])*w[layer][i][0]\n",
        "    z=z/len(X_train)\n",
        "    ad[layer-1][i]=z"
      ],
      "metadata": {
        "id": "RHUfv2RbQxA5"
      },
      "execution_count": 202,
      "outputs": []
    },
    {
      "cell_type": "markdown",
      "source": [
        "Run this to get loss per time step."
      ],
      "metadata": {
        "id": "ORAJWogWAqSf"
      }
    },
    {
      "cell_type": "code",
      "source": [
        "#l,cache=get_loss(X_train,y_train)"
      ],
      "metadata": {
        "id": "XyFggqSImahc"
      },
      "execution_count": 203,
      "outputs": []
    },
    {
      "cell_type": "markdown",
      "source": [
        "Defining the hyperparamter learning rate as 0.01 here."
      ],
      "metadata": {
        "id": "inWRh4yCoIYR"
      }
    },
    {
      "cell_type": "code",
      "source": [
        "learning_rate=0.01"
      ],
      "metadata": {
        "id": "D5PUpdvSlgh6"
      },
      "execution_count": 204,
      "outputs": []
    },
    {
      "cell_type": "markdown",
      "source": [
        "Backpropogation starts here!"
      ],
      "metadata": {
        "id": "ZP1Khfcd5IV6"
      }
    },
    {
      "cell_type": "code",
      "source": [
        "def backpropogation(cache):\n",
        "  #Lets just update the last layer first\n",
        "  for number_cache in range(len(cache[0][-1])):\n",
        "    for number in range(len(w_grad[-1])):\n",
        "      grad_w=0\n",
        "      for message in range(len(X_train)):\n",
        "        grad_w+=(cl_derivative(cache[message][-1][number_cache], y_train[message]) * cache[message][-2][number])\n",
        "      grad_w=grad_w/len(X_train)\n",
        "      w_grad[-1][number][number_cache]=grad_w\n",
        "      w[-1][number][number_cache]-=(learning_rate*grad_w)\n",
        "  for number_cache in range(len(cache[0][-1])):\n",
        "    grad_b=0\n",
        "    for message in range(len(X_train)):\n",
        "      grad_b+=(cl_derivative(cache[message][-1][number_cache], y_train[message]))\n",
        "    grad_b=grad_b/len(X_train)\n",
        "    b_grad[-1][number_cache]=grad_b\n",
        "    b[-1][number_cache]-=(learning_rate*grad_b)\n",
        "  for f in range(len(w[-1])):\n",
        "    z=0\n",
        "    for message in range(len(X_train)):\n",
        "      z+=(cl_derivative(cache[message][-1][0],y_train[message])) *w[-1][f][0]\n",
        "    z=z/len(X_train)\n",
        "    ad[-2][f]=z\n",
        "  layer=-2\n",
        "  while(layer>=-1*(len(n)-1)):\n",
        "    for number_cache in range(len(cache[0][layer])):\n",
        "      for number in range(len(w_grad[layer])):\n",
        "        grad_w=0\n",
        "        for message in range(len(X_train)):\n",
        "          if layer==-1*(len(n)-1):\n",
        "            grad_w+=ad[layer][number_cache] * sigmoid_derivative(cache[message][layer][number_cache])*X_train[message][number]\n",
        "          else:\n",
        "            grad_w+=ad[layer][number_cache] * sigmoid_derivative(cache[message][layer][number_cache])*cache[message][layer-1][number]\n",
        "        grad_w=grad_w/len(X_train)\n",
        "        w_grad[layer][number][number_cache]=grad_w\n",
        "        w[layer][number][number_cache]-=(learning_rate*grad_w)\n",
        "    if layer==-1*(len(n)-1):\n",
        "      break\n",
        "    else:\n",
        "      calculate_ad(layer)\n",
        "    layer=layer-1\n",
        "  layer_b=-2\n",
        "  while(layer_b>=-1*(len(n)-1)):\n",
        "    for number_cache in range(len(cache[0][layer_b])):\n",
        "      grad_b2=0\n",
        "      for message in range(len(X_train)):\n",
        "        grad_b2+=ad[layer][number_cache] * sigmoid_derivative(cache[message][layer][number_cache])\n",
        "      grad_b2=grad_b2/len(X_train)\n",
        "      b_grad[layer_b][number_cache]=grad_b2\n",
        "      b[layer_b][number_cache]-=(learning_rate*grad_b2)\n",
        "    layer_b=layer_b-1"
      ],
      "metadata": {
        "id": "eIjwXSXM9_ba"
      },
      "execution_count": 205,
      "outputs": []
    },
    {
      "cell_type": "markdown",
      "source": [
        "-------------------------------------------------------------------------------------------------"
      ],
      "metadata": {
        "id": "YD7nP_z1Az5Q"
      }
    },
    {
      "cell_type": "markdown",
      "source": [
        "Manually carrying out the backpropogation for the last layer, to check and verify."
      ],
      "metadata": {
        "id": "x7hDnoXv-yLK"
      }
    },
    {
      "cell_type": "code",
      "source": [
        "#Lets just update the last layer first\n",
        "for number_cache in range(len(cache[0][-1])):\n",
        "  for number in range(len(w_grad[-1])):\n",
        "    grad_w=0\n",
        "    for message in range(len(X_train)):\n",
        "      grad_w+=(cl_derivative(cache[message][-1][number_cache], y_train[message]) * cache[message][-2][number])\n",
        "    grad_w=grad_w/len(X_train)\n",
        "    w_grad[-1][number][number_cache]=grad_w\n",
        "    w[-1][number][number_cache]-=(learning_rate*grad_w)"
      ],
      "metadata": {
        "id": "j1XvMHM1pEmD"
      },
      "execution_count": 156,
      "outputs": []
    },
    {
      "cell_type": "code",
      "source": [
        "for number_cache in range(len(cache[0][-1])):\n",
        "  grad_b=0\n",
        "  for message in range(len(X_train)):\n",
        "    grad_b+=(cl_derivative(cache[message][-1][number_cache], y_train[message]))\n",
        "  grad_b=grad_b/len(X_train)\n",
        "  b_grad[-1][number_cache]=grad_b\n",
        "  b[-1][number_cache]-=(learning_rate*grad_b)"
      ],
      "metadata": {
        "id": "oKpjaZKYpok0"
      },
      "execution_count": 157,
      "outputs": []
    },
    {
      "cell_type": "code",
      "source": [
        "for f in range(len(w[-1])):\n",
        "  z=0\n",
        "  for message in range(len(X_train)):\n",
        "    z+=(cl_derivative(cache[message][-1][0],y_train[message])) *w[-1][f][0]\n",
        "  z=z/len(X_train)\n",
        "  ad[-2][f]=z"
      ],
      "metadata": {
        "id": "hoH6OMvGPtm4"
      },
      "execution_count": 158,
      "outputs": []
    },
    {
      "cell_type": "code",
      "source": [
        "#Check the last cell for the updates in the weights and biases\n",
        "print(w[-1])\n",
        "print(b[-1])"
      ],
      "metadata": {
        "colab": {
          "base_uri": "https://localhost:8080/"
        },
        "id": "YB-m2PDNlqUM",
        "outputId": "b138ca23-2168-4ea0-8a58-9ca777a17d9d"
      },
      "execution_count": 133,
      "outputs": [
        {
          "output_type": "stream",
          "name": "stdout",
          "text": [
            "[[0.2692583617286699, 0.2703632047017512, -0.029610950056028186], [-0.4306192137088341, 0.47029370477289995, -0.22968493993792488], [-0.4306182266023227, -0.2297037971152416, -0.22968240637974965], [-0.8302586534333463, -0.6298773626084666, 0.6701315566695254]]\n",
            "[0.6485406225097313, -0.4492956191371982, -0.24924500337253314]\n"
          ]
        }
      ]
    },
    {
      "cell_type": "markdown",
      "source": [
        "-----------------------------------------------------------------------"
      ],
      "metadata": {
        "id": "XPyX_AdtAxV0"
      }
    },
    {
      "cell_type": "markdown",
      "source": [
        "Now, both forward and backward passes are defined, I will run this for 1000 timesteps. You can also track w_grad and b_grad if you wish to, can add print in any fucntion to just display the two lists"
      ],
      "metadata": {
        "id": "QUkRlqk5A5i4"
      }
    },
    {
      "cell_type": "code",
      "source": [
        "for i in range(1000):\n",
        "  l,cache=get_loss(X_train,y_train)\n",
        "  print(str(i)+\" : \" + str(l))\n",
        "  backpropogation(cache)"
      ],
      "metadata": {
        "colab": {
          "base_uri": "https://localhost:8080/"
        },
        "id": "P6pzhxFB8Kbv",
        "outputId": "911e387d-72bc-4be0-8a9c-6a14b3d062dc"
      },
      "execution_count": 206,
      "outputs": [
        {
          "output_type": "stream",
          "name": "stdout",
          "text": [
            "0 : -55.91349644514608\n",
            "1 : -55.843349362003316\n",
            "2 : -55.7739311396555\n",
            "3 : -55.70523557120951\n",
            "4 : -55.63725651100714\n",
            "5 : -55.56998786691037\n",
            "6 : -55.50342359740822\n",
            "7 : -55.43755771788522\n",
            "8 : -55.37238429049561\n",
            "9 : -55.307897430431744\n",
            "10 : -55.24409130737036\n",
            "11 : -55.180960131972284\n",
            "12 : -55.118498163114545\n",
            "13 : -55.05669970403328\n",
            "14 : -54.9955591076275\n",
            "15 : -54.93507076970881\n",
            "16 : -54.87522912466185\n",
            "17 : -54.81602865605196\n",
            "18 : -54.75746387878522\n",
            "19 : -54.69952935598393\n",
            "20 : -54.642219689343555\n",
            "21 : -54.585529516721884\n",
            "22 : -54.52945351262102\n",
            "23 : -54.473986393973604\n",
            "24 : -54.419122912428016\n",
            "25 : -54.36485785290184\n",
            "26 : -54.31118603165346\n",
            "27 : -54.2581023155683\n",
            "28 : -54.20560158985409\n",
            "29 : -54.153678781666834\n",
            "30 : -54.10232884130623\n",
            "31 : -54.05154676728848\n",
            "32 : -54.0013275778985\n",
            "33 : -53.951666321315344\n",
            "34 : -53.902558090076994\n",
            "35 : -53.85399799745466\n",
            "36 : -53.80598118709578\n",
            "37 : -53.75850283447051\n",
            "38 : -53.71155814060392\n",
            "39 : -53.66514235570145\n",
            "40 : -53.61925072900447\n",
            "41 : -53.57387855507764\n",
            "42 : -53.529021158379784\n",
            "43 : -53.48467388554924\n",
            "44 : -53.44083211022553\n",
            "45 : -53.3974912460677\n",
            "46 : -53.354646716378184\n",
            "47 : -53.31229397869293\n",
            "48 : -53.270428527674554\n",
            "49 : -53.22904587196841\n",
            "50 : -53.18814155493557\n",
            "51 : -53.14771113199133\n",
            "52 : -53.10775020580288\n",
            "53 : -53.06825439398463\n",
            "54 : -53.02921934066979\n",
            "55 : -52.99064071265351\n",
            "56 : -52.95251421385734\n",
            "57 : -52.914835563632224\n",
            "58 : -52.87760051074093\n",
            "59 : -52.840804828054566\n",
            "60 : -52.804444318338305\n",
            "61 : -52.76851480701897\n",
            "62 : -52.73301213977437\n",
            "63 : -52.69793219506934\n",
            "64 : -52.66327087692351\n",
            "65 : -52.62902411394669\n",
            "66 : -52.595187847767306\n",
            "67 : -52.5617580667835\n",
            "68 : -52.52873076951887\n",
            "69 : -52.49610198198046\n",
            "70 : -52.463867756694235\n",
            "71 : -52.43202417318729\n",
            "72 : -52.400567332684105\n",
            "73 : -52.369493367267715\n",
            "74 : -52.338798425896826\n",
            "75 : -52.30847868549561\n",
            "76 : -52.27853035481107\n",
            "77 : -52.24894965560863\n",
            "78 : -52.21973284436947\n",
            "79 : -52.19087620071871\n",
            "80 : -52.16237602694305\n",
            "81 : -52.13422864847313\n",
            "82 : -52.10643042015154\n",
            "83 : -52.07897772623287\n",
            "84 : -52.05186695868633\n",
            "85 : -52.02509455625095\n",
            "86 : -51.99865696779129\n",
            "87 : -51.97255067254812\n",
            "88 : -51.946772170495365\n",
            "89 : -51.92131799728697\n",
            "90 : -51.89618470014879\n",
            "91 : -51.87136885957614\n",
            "92 : -51.84686708595825\n",
            "93 : -51.8226759954705\n",
            "94 : -51.79879224720074\n",
            "95 : -51.775212522898535\n",
            "96 : -51.75193351829622\n",
            "97 : -51.72895196914565\n",
            "98 : -51.70626462566369\n",
            "99 : -51.68386826603266\n",
            "100 : -51.661759693989495\n",
            "101 : -51.63993573496848\n",
            "102 : -51.61839324670905\n",
            "103 : -51.597129102379704\n",
            "104 : -51.5761402069718\n",
            "105 : -51.55542348428104\n",
            "106 : -51.53497588847954\n",
            "107 : -51.51479439543664\n",
            "108 : -51.49487601284458\n",
            "109 : -51.47521775659239\n",
            "110 : -51.45581668355297\n",
            "111 : -51.4366698684392\n",
            "112 : -51.417774408143714\n",
            "113 : -51.39912742704224\n",
            "114 : -51.380726073136636\n",
            "115 : -51.36256752287646\n",
            "116 : -51.34464897440856\n",
            "117 : -51.32696764468412\n",
            "118 : -51.30952077813781\n",
            "119 : -51.292305647169655\n",
            "120 : -51.27531954925224\n",
            "121 : -51.25855979728742\n",
            "122 : -51.24202373166035\n",
            "123 : -51.22570871927514\n",
            "124 : -51.20961215500147\n",
            "125 : -51.19373144624527\n",
            "126 : -51.178064034646006\n",
            "127 : -51.16260737293299\n",
            "128 : -51.14735895096212\n",
            "129 : -51.132316272089874\n",
            "130 : -51.117476874388544\n",
            "131 : -51.102838298823315\n",
            "132 : -51.088398135058\n",
            "133 : -51.07415397034557\n",
            "134 : -51.06010343967312\n",
            "135 : -51.046244181403026\n",
            "136 : -51.03257386861334\n",
            "137 : -51.0190901869184\n",
            "138 : -51.005790854237596\n",
            "139 : -50.992673602472884\n",
            "140 : -50.979736198242136\n",
            "141 : -50.96697641250275\n",
            "142 : -50.95439205044558\n",
            "143 : -50.94198093992321\n",
            "144 : -50.92974092421766\n",
            "145 : -50.917669871683216\n",
            "146 : -50.905765675264625\n",
            "147 : -50.894026245746616\n",
            "148 : -50.882449515611405\n",
            "149 : -50.8710334371099\n",
            "150 : -50.859775988529655\n",
            "151 : -50.84867516648072\n",
            "152 : -50.83772898203785\n",
            "153 : -50.826935483884654\n",
            "154 : -50.81629272118694\n",
            "155 : -50.80579878071914\n",
            "156 : -50.79545175793483\n",
            "157 : -50.78524977577074\n",
            "158 : -50.7751909697\n",
            "159 : -50.765273504607535\n",
            "160 : -50.75549556466504\n",
            "161 : -50.74585533790136\n",
            "162 : -50.736351052847205\n",
            "163 : -50.726980945747776\n",
            "164 : -50.717743280331696\n",
            "165 : -50.7086363237027\n",
            "166 : -50.69965838201978\n",
            "167 : -50.6908077686744\n",
            "168 : -50.6820828134516\n",
            "169 : -50.67348187603052\n",
            "170 : -50.665003323804946\n",
            "171 : -50.65664554731255\n",
            "172 : -50.648406957824015\n",
            "173 : -50.640285976735385\n",
            "174 : -50.63228105147974\n",
            "175 : -50.624390645401334\n",
            "176 : -50.616613235345106\n",
            "177 : -50.60894731888915\n",
            "178 : -50.60139141434435\n",
            "179 : -50.59394405062945\n",
            "180 : -50.58660377450303\n",
            "181 : -50.579369149117326\n",
            "182 : -50.57223877234045\n",
            "183 : -50.5652112309506\n",
            "184 : -50.55828514403103\n",
            "185 : -50.55145914368334\n",
            "186 : -50.54473187550978\n",
            "187 : -50.538102011149434\n",
            "188 : -50.531568224652204\n",
            "189 : -50.5251292146583\n",
            "190 : -50.51878369571933\n",
            "191 : -50.51253038961942\n",
            "192 : -50.50636804851897\n",
            "193 : -50.50029542361404\n",
            "194 : -50.494311288280244\n",
            "195 : -50.48841443180459\n",
            "196 : -50.48260365842115\n",
            "197 : -50.47687778875757\n",
            "198 : -50.47123564440584\n",
            "199 : -50.46567608601314\n",
            "200 : -50.460197962654796\n",
            "201 : -50.45480015763975\n",
            "202 : -50.44948155427692\n",
            "203 : -50.444241062394234\n",
            "204 : -50.4390775937482\n",
            "205 : -50.433990075524726\n",
            "206 : -50.42897745564264\n",
            "207 : -50.42403869069972\n",
            "208 : -50.419172752723014\n",
            "209 : -50.41437861711476\n",
            "210 : -50.4096552843496\n",
            "211 : -50.405001768884986\n",
            "212 : -50.40041708517832\n",
            "213 : -50.395900266491466\n",
            "214 : -50.391450361515496\n",
            "215 : -50.38706642665611\n",
            "216 : -50.382747532783895\n",
            "217 : -50.37849276716295\n",
            "218 : -50.374301219468315\n",
            "219 : -50.370171997214996\n",
            "220 : -50.366104214186144\n",
            "221 : -50.36209701068397\n",
            "222 : -50.35814951543861\n",
            "223 : -50.35426087984211\n",
            "224 : -50.350430276501484\n",
            "225 : -50.346656868862844\n",
            "226 : -50.342939848337686\n",
            "227 : -50.33927840633747\n",
            "228 : -50.33567175066735\n",
            "229 : -50.332119098293425\n",
            "230 : -50.32861967823605\n",
            "231 : -50.32517271614032\n",
            "232 : -50.32177747429583\n",
            "233 : -50.31843319811639\n",
            "234 : -50.31513916339219\n",
            "235 : -50.31189463916304\n",
            "236 : -50.308698916166236\n",
            "237 : -50.305551290925\n",
            "238 : -50.302451070087834\n",
            "239 : -50.299397564160785\n",
            "240 : -50.296390099079005\n",
            "241 : -50.29342800945661\n",
            "242 : -50.29051063521153\n",
            "243 : -50.28763733169092\n",
            "244 : -50.28480745327768\n",
            "245 : -50.28202037508754\n",
            "246 : -50.27927547030784\n",
            "247 : -50.27657212080471\n",
            "248 : -50.27390972676657\n",
            "249 : -50.27128769272121\n",
            "250 : -50.26870542175003\n",
            "251 : -50.26616233911393\n",
            "252 : -50.2636578652522\n",
            "253 : -50.261191441337054\n",
            "254 : -50.258762504683546\n",
            "255 : -50.25637050851805\n",
            "256 : -50.25401490462045\n",
            "257 : -50.25169517225401\n",
            "258 : -50.2494107685024\n",
            "259 : -50.24716117745047\n",
            "260 : -50.24494589041561\n",
            "261 : -50.242764400643686\n",
            "262 : -50.24061620813106\n",
            "263 : -50.23850081769561\n",
            "264 : -50.236417754406084\n",
            "265 : -50.234366529830695\n",
            "266 : -50.23234667771714\n",
            "267 : -50.23035773181318\n",
            "268 : -50.22839923550981\n",
            "269 : -50.22647073701965\n",
            "270 : -50.22457178600184\n",
            "271 : -50.2227019518842\n",
            "272 : -50.22086079541563\n",
            "273 : -50.21904789470289\n",
            "274 : -50.21726282303116\n",
            "275 : -50.21550516959696\n",
            "276 : -50.21377452648983\n",
            "277 : -50.21207048724573\n",
            "278 : -50.210392654561915\n",
            "279 : -50.20874064270738\n",
            "280 : -50.20711406016518\n",
            "281 : -50.20551252168655\n",
            "282 : -50.203935668059586\n",
            "283 : -50.202383112106865\n",
            "284 : -50.200854501366706\n",
            "285 : -50.19934946746603\n",
            "286 : -50.19786766276488\n",
            "287 : -50.19640873962322\n",
            "288 : -50.19497234943673\n",
            "289 : -50.193558155655126\n",
            "290 : -50.192165822210384\n",
            "291 : -50.19079501882025\n",
            "292 : -50.1894454272569\n",
            "293 : -50.18811672109536\n",
            "294 : -50.1868085869293\n",
            "295 : -50.1855207171383\n",
            "296 : -50.184252804584105\n",
            "297 : -50.18300454550358\n",
            "298 : -50.1817756414374\n",
            "299 : -50.18056580356951\n",
            "300 : -50.179374738744436\n",
            "301 : -50.178202169235874\n",
            "302 : -50.177047805263456\n",
            "303 : -50.17591137922635\n",
            "304 : -50.17479261195178\n",
            "305 : -50.17369124258922\n",
            "306 : -50.172607002573436\n",
            "307 : -50.17153962671444\n",
            "308 : -50.17048886814444\n",
            "309 : -50.169454469870196\n",
            "310 : -50.16843617875579\n",
            "311 : -50.1674337590232\n",
            "312 : -50.16644695512559\n",
            "313 : -50.16547554189257\n",
            "314 : -50.164519276795836\n",
            "315 : -50.163577933218434\n",
            "316 : -50.16265128213261\n",
            "317 : -50.16173909306413\n",
            "318 : -50.16084115145023\n",
            "319 : -50.15995724128145\n",
            "320 : -50.15908713979828\n",
            "321 : -50.158230645456236\n",
            "322 : -50.15738753646007\n",
            "323 : -50.156557623319415\n",
            "324 : -50.15574068616766\n",
            "325 : -50.15493654563992\n",
            "326 : -50.154144991030655\n",
            "327 : -50.15336583477825\n",
            "328 : -50.15259888546361\n",
            "329 : -50.15184395552518\n",
            "330 : -50.15110085643688\n",
            "331 : -50.15036941413765\n",
            "332 : -50.14964944106585\n",
            "333 : -50.14894076846415\n",
            "334 : -50.148243211663896\n",
            "335 : -50.14755661010451\n",
            "336 : -50.14688079310016\n",
            "337 : -50.14621558707184\n",
            "338 : -50.14556083579857\n",
            "339 : -50.144916375826824\n",
            "340 : -50.14428204466747\n",
            "341 : -50.143657691885416\n",
            "342 : -50.14304316222397\n",
            "343 : -50.14243829801561\n",
            "344 : -50.141842959432864\n",
            "345 : -50.14125698687956\n",
            "346 : -50.14068024679637\n",
            "347 : -50.140112586819555\n",
            "348 : -50.13955387194328\n",
            "349 : -50.13900396426877\n",
            "350 : -50.13846272493282\n",
            "351 : -50.13793002085833\n",
            "352 : -50.13740571703943\n",
            "353 : -50.13688968522056\n",
            "354 : -50.136381796181915\n",
            "355 : -50.13588192359657\n",
            "356 : -50.13538994885225\n",
            "357 : -50.13490573838963\n",
            "358 : -50.13442917938242\n",
            "359 : -50.133960149361016\n",
            "360 : -50.13349852778457\n",
            "361 : -50.13304421291647\n",
            "362 : -50.13259707216172\n",
            "363 : -50.132157011016304\n",
            "364 : -50.131723908939215\n",
            "365 : -50.13129765599716\n",
            "366 : -50.13087815623956\n",
            "367 : -50.13046529250071\n",
            "368 : -50.13005897124076\n",
            "369 : -50.129659083008626\n",
            "370 : -50.129265530889384\n",
            "371 : -50.12887821314645\n",
            "372 : -50.12849703382934\n",
            "373 : -50.12812190084475\n",
            "374 : -50.12775271534914\n",
            "375 : -50.12738938428486\n",
            "376 : -50.12703181652304\n",
            "377 : -50.126679923345534\n",
            "378 : -50.12633361748075\n",
            "379 : -50.125992805388904\n",
            "380 : -50.12565740606651\n",
            "381 : -50.12532733368839\n",
            "382 : -50.12500250676894\n",
            "383 : -50.12468283659007\n",
            "384 : -50.12436825082711\n",
            "385 : -50.12405866510154\n",
            "386 : -50.12375399889198\n",
            "387 : -50.12345417842733\n",
            "388 : -50.12315912607931\n",
            "389 : -50.12286876904121\n",
            "390 : -50.122583035952786\n",
            "391 : -50.12230184243538\n",
            "392 : -50.12202513062933\n",
            "393 : -50.121752824834964\n",
            "394 : -50.12148485610291\n",
            "395 : -50.12122115548373\n",
            "396 : -50.12096165451016\n",
            "397 : -50.12070628953665\n",
            "398 : -50.1204549959532\n",
            "399 : -50.120207709632105\n",
            "400 : -50.1199643635526\n",
            "401 : -50.11972489840849\n",
            "402 : -50.11948925151858\n",
            "403 : -50.11925736888051\n",
            "404 : -50.11902918299132\n",
            "405 : -50.118804644188195\n",
            "406 : -50.11858368400391\n",
            "407 : -50.118366252775566\n",
            "408 : -50.11815229601868\n",
            "409 : -50.11794175587363\n",
            "410 : -50.1177345793024\n",
            "411 : -50.11753071567778\n",
            "412 : -50.11733010906883\n",
            "413 : -50.11713270788397\n",
            "414 : -50.11693846487122\n",
            "415 : -50.11674733036773\n",
            "416 : -50.116559246995976\n",
            "417 : -50.116374173772044\n",
            "418 : -50.11619206344391\n",
            "419 : -50.11601286924169\n",
            "420 : -50.115836541020414\n",
            "421 : -50.115663038278264\n",
            "422 : -50.11549231087028\n",
            "423 : -50.11532432070544\n",
            "424 : -50.115159021496076\n",
            "425 : -50.114996369847525\n",
            "426 : -50.114836324293634\n",
            "427 : -50.11467884433267\n",
            "428 : -50.11452388271259\n",
            "429 : -50.114371415807376\n",
            "430 : -50.1142213910612\n",
            "431 : -50.11407376941877\n",
            "432 : -50.11392851568219\n",
            "433 : -50.1137855970643\n",
            "434 : -50.11364497017036\n",
            "435 : -50.11350660028458\n",
            "436 : -50.11337045076256\n",
            "437 : -50.113236485924155\n",
            "438 : -50.113104675875206\n",
            "439 : -50.112974980596185\n",
            "440 : -50.11284737163939\n",
            "441 : -50.11272181091388\n",
            "442 : -50.11259826900773\n",
            "443 : -50.11247671168722\n",
            "444 : -50.112357112915596\n",
            "445 : -50.112239431226755\n",
            "446 : -50.112123642030355\n",
            "447 : -50.11200971784306\n",
            "448 : -50.111897629252866\n",
            "449 : -50.111787340579724\n",
            "450 : -50.111678825786704\n",
            "451 : -50.11157206558735\n",
            "452 : -50.11146701851554\n",
            "453 : -50.111363659498736\n",
            "454 : -50.11126196973258\n",
            "455 : -50.11116191498346\n",
            "456 : -50.11106347500054\n",
            "457 : -50.110966620853915\n",
            "458 : -50.1108713279533\n",
            "459 : -50.110777569297476\n",
            "460 : -50.11068532367132\n",
            "461 : -50.11059456503789\n",
            "462 : -50.11050526977128\n",
            "463 : -50.110417416174016\n",
            "464 : -50.11033097772718\n",
            "465 : -50.110245933697726\n",
            "466 : -50.11016226431686\n",
            "467 : -50.11007994499429\n",
            "468 : -50.109998955479206\n",
            "469 : -50.1099192726276\n",
            "470 : -50.10984087715308\n",
            "471 : -50.10976375073333\n",
            "472 : -50.109687865885086\n",
            "473 : -50.10961320717905\n",
            "474 : -50.10953975629304\n",
            "475 : -50.10946749731562\n",
            "476 : -50.10939640035269\n",
            "477 : -50.10932645383226\n",
            "478 : -50.10925763798568\n",
            "479 : -50.10918993738368\n",
            "480 : -50.10912333273973\n",
            "481 : -50.109057804767254\n",
            "482 : -50.10899333755487\n",
            "483 : -50.10892991278037\n",
            "484 : -50.10886751501449\n",
            "485 : -50.10880612738154\n",
            "486 : -50.108745739756046\n",
            "487 : -50.108686321761695\n",
            "488 : -50.108627874845\n",
            "489 : -50.108570366700995\n",
            "490 : -50.1085137939545\n",
            "491 : -50.10845813924766\n",
            "492 : -50.108403388597715\n",
            "493 : -50.10834952223599\n",
            "494 : -50.10829653100129\n",
            "495 : -50.10824439801796\n",
            "496 : -50.10819311267836\n",
            "497 : -50.10814266003547\n",
            "498 : -50.10809302321349\n",
            "499 : -50.10804419546213\n",
            "500 : -50.10799615942358\n",
            "501 : -50.1079489044902\n",
            "502 : -50.107902413304025\n",
            "503 : -50.10785668297218\n",
            "504 : -50.1078116908329\n",
            "505 : -50.10776743158246\n",
            "506 : -50.10772389220233\n",
            "507 : -50.107681060156345\n",
            "508 : -50.107638924836884\n",
            "509 : -50.10759747756498\n",
            "510 : -50.10755670098273\n",
            "511 : -50.107516586893404\n",
            "512 : -50.10747712710017\n",
            "513 : -50.10743830858461\n",
            "514 : -50.10740012604299\n",
            "515 : -50.107362560670836\n",
            "516 : -50.1073256119861\n",
            "517 : -50.10728926021991\n",
            "518 : -50.10725350055073\n",
            "519 : -50.10721832815695\n",
            "520 : -50.10718372616275\n",
            "521 : -50.10714968588925\n",
            "522 : -50.107116204925624\n",
            "523 : -50.10708326736046\n",
            "524 : -50.107050868372156\n",
            "525 : -50.10701899687092\n",
            "526 : -50.10698764562422\n",
            "527 : -50.10695680354242\n",
            "528 : -50.106926470143286\n",
            "529 : -50.10689662999759\n",
            "530 : -50.10686727683725\n",
            "531 : -50.10683840487617\n",
            "532 : -50.106810001578225\n",
            "533 : -50.10678206356826\n",
            "534 : -50.106754581202956\n",
            "535 : -50.10672755158935\n",
            "536 : -50.106700959780355\n",
            "537 : -50.10667480384734\n",
            "538 : -50.10664907896864\n",
            "539 : -50.10662376875071\n",
            "540 : -50.106598878979476\n",
            "541 : -50.10657439519009\n",
            "542 : -50.10655030966789\n",
            "543 : -50.10652661710911\n",
            "544 : -50.1065033175137\n",
            "545 : -50.1064803920773\n",
            "546 : -50.10645785285401\n",
            "547 : -50.10643567814649\n",
            "548 : -50.10641386650818\n",
            "549 : -50.10639241070667\n",
            "550 : -50.106371312670625\n",
            "551 : -50.10635055793513\n",
            "552 : -50.10633014071418\n",
            "553 : -50.106310058596996\n",
            "554 : -50.10629031061925\n",
            "555 : -50.10627088328033\n",
            "556 : -50.1062517751338\n",
            "557 : -50.10623298328661\n",
            "558 : -50.10621449664904\n",
            "559 : -50.10619631714973\n",
            "560 : -50.106178436109744\n",
            "561 : -50.10616084629662\n",
            "562 : -50.10614355060332\n",
            "563 : -50.10612653601148\n",
            "564 : -50.106109801074524\n",
            "565 : -50.10609333856008\n",
            "566 : -50.10607715280758\n",
            "567 : -50.106061232245125\n",
            "568 : -50.10604557542619\n",
            "569 : -50.10603017126098\n",
            "570 : -50.10601502312472\n",
            "571 : -50.10600012812438\n",
            "572 : -50.10598547517021\n",
            "573 : -50.105971064744395\n",
            "574 : -50.10595689009657\n",
            "575 : -50.105942954119804\n",
            "576 : -50.10592924234912\n",
            "577 : -50.1059157610527\n",
            "578 : -50.10590250058723\n",
            "579 : -50.105889459024056\n",
            "580 : -50.10587663780973\n",
            "581 : -50.105864021032765\n",
            "582 : -50.10585161881863\n",
            "583 : -50.10583941814897\n",
            "584 : -50.10582742095231\n",
            "585 : -50.10581561806765\n",
            "586 : -50.10580402010253\n",
            "587 : -50.10579260487747\n",
            "588 : -50.10578138010703\n",
            "589 : -50.105770345791264\n",
            "590 : -50.10575948746529\n",
            "591 : -50.10574881332575\n",
            "592 : -50.10573831758682\n",
            "593 : -50.105727991087356\n",
            "594 : -50.105717842988405\n",
            "595 : -50.10570785834299\n",
            "596 : -50.10569803956183\n",
            "597 : -50.105688382305544\n",
            "598 : -50.10567888898486\n",
            "599 : -50.105669550438776\n",
            "600 : -50.105660370524504\n",
            "601 : -50.105651340080975\n",
            "602 : -50.10564246103684\n",
            "603 : -50.10563373146348\n",
            "604 : -50.10562514364619\n",
            "605 : -50.10561669854939\n",
            "606 : -50.105608398101666\n",
            "607 : -50.10560023507061\n",
            "608 : -50.10559220318809\n",
            "609 : -50.10558430775784\n",
            "610 : -50.10557654540479\n",
            "611 : -50.10556891082515\n",
            "612 : -50.10556140498315\n",
            "613 : -50.10555402498588\n",
            "614 : -50.10554676697605\n",
            "615 : -50.10553963191795\n",
            "616 : -50.10553261595427\n",
            "617 : -50.105525713781205\n",
            "618 : -50.10551892973831\n",
            "619 : -50.105512255628625\n",
            "620 : -50.105505698684816\n",
            "621 : -50.10549924395965\n",
            "622 : -50.105492905918105\n",
            "623 : -50.105486670577406\n",
            "624 : -50.105480536491115\n",
            "625 : -50.105474509445145\n",
            "626 : -50.10546858268922\n",
            "627 : -50.10546275381248\n",
            "628 : -50.10545702426152\n",
            "629 : -50.10545138921461\n",
            "630 : -50.105445850118286\n",
            "631 : -50.105440405043844\n",
            "632 : -50.10543504965189\n",
            "633 : -50.10542978153155\n",
            "634 : -50.105424608397485\n",
            "635 : -50.10541952157066\n",
            "636 : -50.10541451526523\n",
            "637 : -50.10540959574919\n",
            "638 : -50.10540475868316\n",
            "639 : -50.105400003102815\n",
            "640 : -50.10539532852598\n",
            "641 : -50.10539073398828\n",
            "642 : -50.105386213703774\n",
            "643 : -50.10538177201201\n",
            "644 : -50.105377406019905\n",
            "645 : -50.105373114281\n",
            "646 : -50.105368891009334\n",
            "647 : -50.105364743437384\n",
            "648 : -50.10536066095755\n",
            "649 : -50.10535665273088\n",
            "650 : -50.10535271345361\n",
            "651 : -50.105348833964676\n",
            "652 : -50.10534502390729\n",
            "653 : -50.105341277977686\n",
            "654 : -50.10533759955098\n",
            "655 : -50.10533398187694\n",
            "656 : -50.105330422544625\n",
            "657 : -50.10532692348284\n",
            "658 : -50.10532348854881\n",
            "659 : -50.10532011195652\n",
            "660 : -50.1053167859915\n",
            "661 : -50.105313522225565\n",
            "662 : -50.10531031294415\n",
            "663 : -50.105307159111504\n",
            "664 : -50.105304057834736\n",
            "665 : -50.10530101056029\n",
            "666 : -50.10529801053791\n",
            "667 : -50.1052950674108\n",
            "668 : -50.10529217298225\n",
            "669 : -50.10528932773439\n",
            "670 : -50.105286532149385\n",
            "671 : -50.105283781405596\n",
            "672 : -50.10528108177114\n",
            "673 : -50.10527842360282\n",
            "674 : -50.10527581654379\n",
            "675 : -50.105273250468684\n",
            "676 : -50.105270729234846\n",
            "677 : -50.10526825428868\n",
            "678 : -50.10526582032643\n",
            "679 : -50.105263425901626\n",
            "680 : -50.10526107438936\n",
            "681 : -50.105258764343176\n",
            "682 : -50.10525649142358\n",
            "683 : -50.10525425707713\n",
            "684 : -50.10525206467887\n",
            "685 : -50.10524990796074\n",
            "686 : -50.10524778981571\n",
            "687 : -50.10524570686862\n",
            "688 : -50.10524366056599\n",
            "689 : -50.10524164801479\n",
            "690 : -50.105239673072354\n",
            "691 : -50.10523773091707\n",
            "692 : -50.10523582251323\n",
            "693 : -50.105233948342985\n",
            "694 : -50.10523210744206\n",
            "695 : -50.10523029498883\n",
            "696 : -50.10522851773347\n",
            "697 : -50.10522676892585\n",
            "698 : -50.10522505049449\n",
            "699 : -50.10522336388596\n",
            "700 : -50.10522170331424\n",
            "701 : -50.105220076011825\n",
            "702 : -50.105218476674914\n",
            "703 : -50.10521690289268\n",
            "704 : -50.10521535659374\n",
            "705 : -50.10521383729603\n",
            "706 : -50.10521234837456\n",
            "707 : -50.10521088307913\n",
            "708 : -50.105209441891915\n",
            "709 : -50.105208026741494\n",
            "710 : -50.10520663859231\n",
            "711 : -50.10520527310474\n",
            "712 : -50.10520393317191\n",
            "713 : -50.10520261541854\n",
            "714 : -50.10520131695177\n",
            "715 : -50.10520004693265\n",
            "716 : -50.105198799093046\n",
            "717 : -50.105197572950836\n",
            "718 : -50.10519636561296\n",
            "719 : -50.10519518190116\n",
            "720 : -50.105194016993686\n",
            "721 : -50.10519287715878\n",
            "722 : -50.1051917561282\n",
            "723 : -50.105190652937715\n",
            "724 : -50.10518957289109\n",
            "725 : -50.10518850730937\n",
            "726 : -50.10518746294282\n",
            "727 : -50.105186439309335\n",
            "728 : -50.10518542917644\n",
            "729 : -50.10518444074089\n",
            "730 : -50.10518346966325\n",
            "731 : -50.10518251931865\n",
            "732 : -50.10518158054594\n",
            "733 : -50.10518065864899\n",
            "734 : -50.10517975748509\n",
            "735 : -50.10517886837527\n",
            "736 : -50.10517799469468\n",
            "737 : -50.10517714078283\n",
            "738 : -50.10517629940721\n",
            "739 : -50.105175470567815\n",
            "740 : -50.105174662943675\n",
            "741 : -50.10517386930227\n",
            "742 : -50.10517308867927\n",
            "743 : -50.10517231866387\n",
            "744 : -50.105171569381525\n",
            "745 : -50.10517082974243\n",
            "746 : -50.105170103121765\n",
            "747 : -50.10516939000168\n",
            "748 : -50.10516868941785\n",
            "749 : -50.105168001370316\n",
            "750 : -50.10516733068062\n",
            "751 : -50.105166666259095\n",
            "752 : -50.1051660153381\n",
            "753 : -50.10516537888204\n",
            "754 : -50.105164753033584\n",
            "755 : -50.1051641373106\n",
            "756 : -50.10516353460598\n",
            "757 : -50.105162942026844\n",
            "758 : -50.10516236101959\n",
            "759 : -50.10516179061996\n",
            "760 : -50.10516123227443\n",
            "761 : -50.10516068116134\n",
            "762 : -50.105160140173695\n",
            "763 : -50.10515960979368\n",
            "764 : -50.105159093396345\n",
            "765 : -50.10515858423151\n",
            "766 : -50.105158079888284\n",
            "767 : -50.10515758904569\n",
            "768 : -50.10515711218581\n",
            "769 : -50.10515663677242\n",
            "770 : -50.10515617437747\n",
            "771 : -50.1051557187328\n",
            "772 : -50.105155271767025\n",
            "773 : -50.105154832998096\n",
            "774 : -50.10515440339026\n",
            "775 : -50.10515398535435\n",
            "776 : -50.10515357262225\n",
            "777 : -50.10515316664045\n",
            "778 : -50.105152768855376\n",
            "779 : -50.10515237685633\n",
            "780 : -50.105151992089695\n",
            "781 : -50.10515161744854\n",
            "782 : -50.10515124955763\n",
            "783 : -50.105150887934904\n",
            "784 : -50.10515053547323\n",
            "785 : -50.10515018590457\n",
            "786 : -50.1051498469435\n",
            "787 : -50.105149507982425\n",
            "788 : -50.10514918493278\n",
            "789 : -50.10514886429392\n",
            "790 : -50.10514854944105\n",
            "791 : -50.10514824085629\n",
            "792 : -50.10514793468235\n",
            "793 : -50.10514763766951\n",
            "794 : -50.10514734788915\n",
            "795 : -50.105147063894776\n",
            "796 : -50.10514678231116\n",
            "797 : -50.105146511335185\n",
            "798 : -50.105146241323524\n",
            "799 : -50.10514597468702\n",
            "800 : -50.105145718175926\n",
            "801 : -50.10514546407566\n",
            "802 : -50.10514521817221\n",
            "803 : -50.10514497516172\n",
            "804 : -50.105144735044185\n",
            "805 : -50.1051445036056\n",
            "806 : -50.105144273131394\n",
            "807 : -50.10514405037177\n",
            "808 : -50.10514383291594\n",
            "809 : -50.10514361497796\n",
            "810 : -50.105143407647596\n",
            "811 : -50.105143200799375\n",
            "812 : -50.105142998290624\n",
            "813 : -50.10514280108566\n",
            "814 : -50.105142603880715\n",
            "815 : -50.105142416801215\n",
            "816 : -50.10514222827523\n",
            "817 : -50.10514204987465\n",
            "818 : -50.10514186954544\n",
            "819 : -50.10514169741302\n",
            "820 : -50.10514152431626\n",
            "821 : -50.105141357487625\n",
            "822 : -50.105141193069834\n",
            "823 : -50.105141033955796\n",
            "824 : -50.1051408758061\n",
            "825 : -50.10514072392452\n",
            "826 : -50.105140573489486\n",
            "827 : -50.105140424983084\n",
            "828 : -50.105140283226945\n",
            "829 : -50.105140140988674\n",
            "830 : -50.10514000260769\n",
            "831 : -50.10513986760185\n",
            "832 : -50.105139736935534\n",
            "833 : -50.10513961012645\n",
            "834 : -50.10513948428176\n",
            "835 : -50.10513935988352\n",
            "836 : -50.10513923644962\n",
            "837 : -50.10513912073035\n",
            "838 : -50.105139004528866\n",
            "839 : -50.105138890256065\n",
            "840 : -50.1051387812871\n",
            "841 : -50.10513867376462\n",
            "842 : -50.1051385691351\n",
            "843 : -50.10513846595203\n",
            "844 : -50.10513836951935\n",
            "845 : -50.105138269711446\n",
            "846 : -50.10513817086788\n",
            "847 : -50.10513807973895\n",
            "848 : -50.10513798764569\n",
            "849 : -50.105137900374054\n",
            "850 : -50.10513781310243\n",
            "851 : -50.10513772679511\n",
            "852 : -50.10513764675598\n",
            "853 : -50.10513756141301\n",
            "854 : -50.105137484748994\n",
            "855 : -50.10513740760278\n",
            "856 : -50.105137329010105\n",
            "857 : -50.10513725523909\n",
            "858 : -50.10513718580748\n",
            "859 : -50.10513711444724\n",
            "860 : -50.1051370474265\n",
            "861 : -50.105136978959294\n",
            "862 : -50.10513691531369\n",
            "863 : -50.10513685118587\n",
            "864 : -50.105136791397584\n",
            "865 : -50.1051367291985\n",
            "866 : -50.105136671821015\n",
            "867 : -50.1051366134792\n",
            "868 : -50.10513655706606\n",
            "869 : -50.10513650692105\n",
            "870 : -50.10513645291869\n",
            "871 : -50.105136403737994\n",
            "872 : -50.10513635118217\n",
            "873 : -50.105136302965796\n",
            "874 : -50.10513625860675\n",
            "875 : -50.10513620894388\n",
            "876 : -50.10513616747781\n",
            "877 : -50.10513612070795\n",
            "878 : -50.10513608117051\n",
            "879 : -50.105136040186586\n",
            "880 : -50.105136001131314\n",
            "881 : -50.10513596304042\n",
            "882 : -50.105135924467284\n",
            "883 : -50.10513588396557\n",
            "884 : -50.105135855517915\n",
            "885 : -50.10513581839132\n",
            "886 : -50.1051357865685\n",
            "887 : -50.10513575378138\n",
            "888 : -50.1051357229229\n",
            "889 : -50.105135692546575\n",
            "890 : -50.10513566168812\n",
            "891 : -50.10513563661559\n",
            "892 : -50.105135608650116\n",
            "893 : -50.1051355835776\n",
            "894 : -50.105135555612094\n",
            "895 : -50.105135527646596\n",
            "896 : -50.1051355088422\n",
            "897 : -50.105135483769715\n",
            "898 : -50.10513546014369\n",
            "899 : -50.10513544326796\n",
            "900 : -50.10513541915979\n",
            "901 : -50.105135400837554\n",
            "902 : -50.10513538251533\n",
            "903 : -50.1051353632288\n",
            "904 : -50.10513534635306\n",
            "905 : -50.10513532899519\n",
            "906 : -50.105135314530266\n",
            "907 : -50.10513529572587\n",
            "908 : -50.105135283671785\n",
            "909 : -50.10513526776037\n",
            "910 : -50.10513525667061\n",
            "911 : -50.10513524317003\n",
            "912 : -50.10513522918728\n",
            "913 : -50.10513522243699\n",
            "914 : -50.1051352079721\n",
            "915 : -50.10513519640016\n",
            "916 : -50.105135186274715\n",
            "917 : -50.1051351771136\n",
            "918 : -50.10513516843467\n",
            "919 : -50.105135160237865\n",
            "920 : -50.10513515107678\n",
            "921 : -50.105135144808635\n",
            "922 : -50.105135139504824\n",
            "923 : -50.10513513275453\n",
            "924 : -50.105135126004264\n",
            "925 : -50.10513512214693\n",
            "926 : -50.105135115396656\n",
            "927 : -50.10513511153934\n",
            "928 : -50.10513510575337\n",
            "929 : -50.1051351052712\n",
            "930 : -50.10513509996742\n",
            "931 : -50.10513509755659\n",
            "932 : -50.10513509755661\n",
            "933 : -50.10513509273494\n",
            "934 : -50.105135089359834\n",
            "935 : -50.105135092252794\n",
            "936 : -50.10513508694901\n",
            "937 : -50.105135089841994\n",
            "938 : -50.105135086949\n",
            "939 : -50.105135084056045\n",
            "940 : -50.10513508357386\n",
            "941 : -50.10513508935982\n",
            "942 : -50.105135088395485\n",
            "943 : -50.105135087431165\n",
            "944 : -50.105135089841966\n",
            "945 : -50.10513509177065\n",
            "946 : -50.105135092734926\n",
            "947 : -50.10513509659225\n",
            "948 : -50.10513509948526\n",
            "949 : -50.10513510093175\n",
            "950 : -50.10513510430691\n",
            "951 : -50.1051351096107\n",
            "952 : -50.10513511153933\n",
            "953 : -50.10513511443233\n",
            "954 : -50.105135119736126\n",
            "955 : -50.105135125039936\n",
            "956 : -50.105135128415085\n",
            "957 : -50.10513513227237\n",
            "958 : -50.1051351361297\n",
            "959 : -50.10513514191567\n",
            "960 : -50.10513514480864\n",
            "961 : -50.10513515155893\n",
            "962 : -50.10513515589842\n",
            "963 : -50.10513516120221\n",
            "964 : -50.10513516939902\n",
            "965 : -50.10513517470279\n",
            "966 : -50.10513518145308\n",
            "967 : -50.10513518820336\n",
            "968 : -50.10513519495367\n",
            "969 : -50.105135202668286\n",
            "970 : -50.10513520652561\n",
            "971 : -50.10513521279369\n",
            "972 : -50.10513522050834\n",
            "973 : -50.10513522822298\n",
            "974 : -50.1051352369019\n",
            "975 : -50.10513524268787\n",
            "976 : -50.10513524992034\n",
            "977 : -50.1051352581171\n",
            "978 : -50.10513526631391\n",
            "979 : -50.10513527499285\n",
            "980 : -50.10513528222528\n",
            "981 : -50.10513529186858\n",
            "982 : -50.10513529910101\n",
            "983 : -50.10513530392265\n",
            "984 : -50.10513531597676\n",
            "985 : -50.10513532272703\n",
            "986 : -50.10513533237031\n",
            "987 : -50.105135340567095\n",
            "988 : -50.10513534683523\n",
            "989 : -50.10513535937149\n",
            "990 : -50.105135367086106\n",
            "991 : -50.105135378175866\n",
            "992 : -50.10513538347965\n",
            "993 : -50.10513539312295\n",
            "994 : -50.10513540324838\n",
            "995 : -50.105135413373816\n",
            "996 : -50.10513542108843\n",
            "997 : -50.10513542735653\n",
            "998 : -50.1051354389285\n",
            "999 : -50.10513544471444\n"
          ]
        }
      ]
    },
    {
      "cell_type": "markdown",
      "source": [
        "The loss can be seen to decrease with timesteps. Note that the architecture is very small, with very few neruons, and optimization techniques are not employed, hence there will be a trail in the decrease of loss."
      ],
      "metadata": {
        "id": "d9xoRFX2BSkS"
      }
    },
    {
      "cell_type": "markdown",
      "source": [
        "-----------------------------------------------------------------------------------------------"
      ],
      "metadata": {
        "id": "z11XyZXpBLvT"
      }
    }
  ]
}