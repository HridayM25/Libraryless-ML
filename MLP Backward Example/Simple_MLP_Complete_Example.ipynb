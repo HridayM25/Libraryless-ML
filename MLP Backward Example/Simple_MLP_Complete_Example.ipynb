{
  "nbformat": 4,
  "nbformat_minor": 0,
  "metadata": {
    "colab": {
      "provenance": []
    },
    "kernelspec": {
      "name": "python3",
      "display_name": "Python 3"
    },
    "language_info": {
      "name": "python"
    }
  },
  "cells": [
    {
      "cell_type": "code",
      "source": [
        "import time"
      ],
      "metadata": {
        "id": "CLdn8lZGQbNT"
      },
      "execution_count": 1,
      "outputs": []
    },
    {
      "cell_type": "code",
      "execution_count": 2,
      "metadata": {
        "id": "uEQXIZ3Y0xrj"
      },
      "outputs": [],
      "source": [
        "def derivative(value,function):\n",
        "  step=0.000001\n",
        "  return (function(value+step) - function(value-step))/(2*step)"
      ]
    },
    {
      "cell_type": "code",
      "source": [
        "#Have used the Taylor Expansion\n",
        "def log(x,base):\n",
        "  if x<=0 or base<=0 or base==1:\n",
        "    raise ValueError(\"Invalid\")\n",
        "  exp=1.0\n",
        "  result=0.0\n",
        "  step=1\n",
        "  next=-1.0\n",
        "  term=float((x-1))\n",
        "  while (exp<=10):\n",
        "    next=(-1) * next * term\n",
        "    result += (1/exp) * next\n",
        "    print(result)\n",
        "    exp+=1\n",
        "  return result"
      ],
      "metadata": {
        "id": "4Xn-zCj1VVlN"
      },
      "execution_count": 3,
      "outputs": []
    },
    {
      "cell_type": "code",
      "source": [
        "def ln(x):\n",
        "    n = 10000000.0\n",
        "    return n * ((x ** (1/n)) - 1)\n",
        "\n",
        "#Can convert to base 10\n",
        "def log(x):\n",
        "  return ln(x)/ln(10)\n",
        "\n",
        "#This seems a better way, need to look into using this v/s the other function mentioned above."
      ],
      "metadata": {
        "id": "Bo_Ku9B0ZNYC"
      },
      "execution_count": 4,
      "outputs": []
    },
    {
      "cell_type": "code",
      "source": [
        "def function(x):\n",
        "  value=x\n",
        "  return value**2 - 2*value + 5"
      ],
      "metadata": {
        "id": "ieJ0SvVnHp_z"
      },
      "execution_count": 5,
      "outputs": []
    },
    {
      "cell_type": "code",
      "source": [
        "def get_random():\n",
        "  current_time=time.time()\n",
        "  return current_time - int(current_time)"
      ],
      "metadata": {
        "id": "MHHsOKOTQnKl"
      },
      "execution_count": 6,
      "outputs": []
    },
    {
      "cell_type": "code",
      "source": [
        "e=2.71828\n",
        "def sigmoid(value):\n",
        "  return 1/(1+e**(-1*value))"
      ],
      "metadata": {
        "id": "yKpQ99z0RBZQ"
      },
      "execution_count": 7,
      "outputs": []
    },
    {
      "cell_type": "code",
      "source": [
        "#2 layers mdp\n",
        "layer1_units= 3\n",
        "layer2_units= 2\n",
        "final_layer=1"
      ],
      "metadata": {
        "id": "DRe3sIlfI6LZ"
      },
      "execution_count": 8,
      "outputs": []
    },
    {
      "cell_type": "code",
      "source": [
        "weights1=[[get_random() for x in range(layer2_units)] for y in range(layer1_units)]\n",
        "bias1=[get_random() for x in range(layer2_units)]\n",
        "weights2=[[get_random() for x in range(final_layer)] for y in range(layer2_units)]\n",
        "bias2=[get_random() for x in range(final_layer)]"
      ],
      "metadata": {
        "id": "XL7FS8SoLwLR"
      },
      "execution_count": 9,
      "outputs": []
    },
    {
      "cell_type": "code",
      "source": [
        "#lets try with 10 training examples?\n",
        "#first code for 1\n",
        "training_example=[x for x in range(1,4)]"
      ],
      "metadata": {
        "id": "0p8XRCihSTKo"
      },
      "execution_count": 10,
      "outputs": []
    },
    {
      "cell_type": "code",
      "source": [
        "training_example"
      ],
      "metadata": {
        "id": "8ACRq71xTSV5",
        "colab": {
          "base_uri": "https://localhost:8080/"
        },
        "outputId": "962d2969-c4a6-402c-ecaf-ae0bb7b26dc8"
      },
      "execution_count": 11,
      "outputs": [
        {
          "output_type": "execute_result",
          "data": {
            "text/plain": [
              "[1, 2, 3]"
            ]
          },
          "metadata": {},
          "execution_count": 11
        }
      ]
    },
    {
      "cell_type": "code",
      "source": [
        "weights1"
      ],
      "metadata": {
        "colab": {
          "base_uri": "https://localhost:8080/"
        },
        "id": "FFuJp_fwzqd_",
        "outputId": "f7af5fef-68b7-45b7-ddbd-3f9aa36394bb"
      },
      "execution_count": 12,
      "outputs": [
        {
          "output_type": "execute_result",
          "data": {
            "text/plain": [
              "[[0.7228927612304688, 0.7228958606719971],\n",
              " [0.722898006439209, 0.7228987216949463],\n",
              " [0.7229001522064209, 0.7229011058807373]]"
            ]
          },
          "metadata": {},
          "execution_count": 12
        }
      ]
    },
    {
      "cell_type": "code",
      "source": [
        "act1=[]\n",
        "for j in range(layer2_units):\n",
        "  sum=0\n",
        "  for i in range(layer1_units) :\n",
        "    sum+=(training_example[i]*weights1[i][j])\n",
        "  act1.append(sum)\n"
      ],
      "metadata": {
        "id": "H2ZVWBSwz5X4"
      },
      "execution_count": 13,
      "outputs": []
    },
    {
      "cell_type": "code",
      "source": [
        "for i in range(len(act1)):\n",
        "  act1[i]+=bias1[i]\n",
        "for i in range(len(act1)):\n",
        "  act1[i]=sigmoid(act1[i])"
      ],
      "metadata": {
        "id": "qtgqhSuh1k4_"
      },
      "execution_count": 14,
      "outputs": []
    },
    {
      "cell_type": "code",
      "source": [
        "act2=[]\n",
        "for j in range(final_layer):\n",
        "  sum=0\n",
        "  for i in range(len(act1)):\n",
        "    sum+=(act1[i]*weights2[i][j])\n",
        "  act2.append(sum)"
      ],
      "metadata": {
        "id": "8b-1fWVv2bZO"
      },
      "execution_count": 47,
      "outputs": []
    },
    {
      "cell_type": "code",
      "source": [
        "for i in range(len(act2)):\n",
        "  act2[i]+=bias2[i]\n",
        "for i in range(len(act2)):\n",
        "  act2[i]=sigmoid(act2[i])"
      ],
      "metadata": {
        "id": "a34r9Yno3L60"
      },
      "execution_count": 48,
      "outputs": []
    },
    {
      "cell_type": "code",
      "source": [
        "act2"
      ],
      "metadata": {
        "colab": {
          "base_uri": "https://localhost:8080/"
        },
        "id": "lB62j5ABbn3G",
        "outputId": "89e76959-936a-4da1-c6db-a7f3e310f946"
      },
      "execution_count": 52,
      "outputs": [
        {
          "output_type": "execute_result",
          "data": {
            "text/plain": [
              "[0.8966075226823964]"
            ]
          },
          "metadata": {},
          "execution_count": 52
        }
      ]
    },
    {
      "cell_type": "code",
      "source": [
        "def bce_loss(value,y_true):\n",
        "  return -1*((y_true * log(value)) + ((1-y_true) * log(1-value)))"
      ],
      "metadata": {
        "id": "FXJ0QYlv4NRk"
      },
      "execution_count": 23,
      "outputs": []
    },
    {
      "cell_type": "code",
      "source": [
        "l2=bce_loss(act2[0], 1)"
      ],
      "metadata": {
        "id": "LpUTUmo_cEM1"
      },
      "execution_count": 53,
      "outputs": []
    },
    {
      "cell_type": "code",
      "source": [
        "def bce_loss_derivate(y_true,z):\n",
        "  return (y_true-z)/(z)*(1-z)\n",
        "def sigmoid_derivative(value):\n",
        "  return sigmoid(value) * (1-sigmoid(value))"
      ],
      "metadata": {
        "id": "KOqct3iScH-w"
      },
      "execution_count": 32,
      "outputs": []
    },
    {
      "cell_type": "code",
      "source": [
        "z11=act1[0]\n",
        "z12=act1[1]\n",
        "z21=act2[0]"
      ],
      "metadata": {
        "id": "onMDEPFIc62Z"
      },
      "execution_count": 28,
      "outputs": []
    },
    {
      "cell_type": "code",
      "source": [
        "#calculate dL/dw21 and dL/dw22\n",
        "gradW21=bce_loss_derivate(1,z21) * sigmoid_derivative(z21) * z11\n",
        "gradW22=bce_loss_derivate(1,z21) * sigmoid_derivative(z21) * z21"
      ],
      "metadata": {
        "id": "UTHfdFEDD7cB"
      },
      "execution_count": 33,
      "outputs": []
    },
    {
      "cell_type": "code",
      "source": [
        "W21=weights2[0][0]\n",
        "W22=weights2[1][0]"
      ],
      "metadata": {
        "id": "4QCX7DisEEW7"
      },
      "execution_count": 42,
      "outputs": []
    },
    {
      "cell_type": "code",
      "source": [
        "#Let step size=0.01 (learning_rate)\n",
        "alpha=0.01\n",
        "W21=W21 - (alpha * gradW21)\n",
        "W22=W22 - (alpha * gradW22)"
      ],
      "metadata": {
        "id": "gq_vPxORFpvn"
      },
      "execution_count": 43,
      "outputs": []
    },
    {
      "cell_type": "code",
      "source": [
        "#check if loss is less or not (sanity check)\n",
        "weights2[0][0]=W21\n",
        "weights2[1][0]=W22\n",
        "l2>l1\n",
        "#Correct!"
      ],
      "metadata": {
        "colab": {
          "base_uri": "https://localhost:8080/"
        },
        "id": "dZctQVsmFx7Z",
        "outputId": "8c8b3703-f785-4c90-eea0-3f38fcf44915"
      },
      "execution_count": 55,
      "outputs": [
        {
          "output_type": "execute_result",
          "data": {
            "text/plain": [
              "False"
            ]
          },
          "metadata": {},
          "execution_count": 55
        }
      ]
    },
    {
      "cell_type": "code",
      "source": [
        "act1"
      ],
      "metadata": {
        "colab": {
          "base_uri": "https://localhost:8080/"
        },
        "id": "dVZWl4rPJWpF",
        "outputId": "08d55925-aade-4845-bd76-cfa0808251f6"
      },
      "execution_count": 56,
      "outputs": [
        {
          "output_type": "execute_result",
          "data": {
            "text/plain": [
              "[0.9936967670325723, 0.9936968192990572]"
            ]
          },
          "metadata": {},
          "execution_count": 56
        }
      ]
    },
    {
      "cell_type": "code",
      "source": [
        "weights1"
      ],
      "metadata": {
        "colab": {
          "base_uri": "https://localhost:8080/"
        },
        "id": "AED_EsppJo7L",
        "outputId": "8daeb82b-2753-4f5a-c1be-41f5ce24661f"
      },
      "execution_count": 57,
      "outputs": [
        {
          "output_type": "execute_result",
          "data": {
            "text/plain": [
              "[[0.7228927612304688, 0.7228958606719971],\n",
              " [0.722898006439209, 0.7228987216949463],\n",
              " [0.7229001522064209, 0.7229011058807373]]"
            ]
          },
          "metadata": {},
          "execution_count": 57
        }
      ]
    },
    {
      "cell_type": "code",
      "source": [
        "gradW11 = bce_loss_derivate(1,z21) * sigmoid_derivative(z21) * W21 * sigmoid_derivative(z11) * weights1[0][0]"
      ],
      "metadata": {
        "id": "vPfZkObZJLqx"
      },
      "execution_count": 58,
      "outputs": []
    },
    {
      "cell_type": "code",
      "source": [
        "weights1[0][0] -= alpha * gradW11"
      ],
      "metadata": {
        "id": "ozZAzzHEJ_Ap"
      },
      "execution_count": 59,
      "outputs": []
    },
    {
      "cell_type": "code",
      "source": [
        "weights1[0][0]\n",
        "w_ori=0.7228927612304688"
      ],
      "metadata": {
        "id": "Ot00ixTkKUmL"
      },
      "execution_count": 61,
      "outputs": []
    },
    {
      "cell_type": "code",
      "source": [
        "weights1[0][0]-w_ori"
      ],
      "metadata": {
        "colab": {
          "base_uri": "https://localhost:8080/"
        },
        "id": "V95tONf7KZtN",
        "outputId": "593490f8-4543-496d-9875-4acc3983352f"
      },
      "execution_count": 62,
      "outputs": [
        {
          "output_type": "execute_result",
          "data": {
            "text/plain": [
              "-8.406418862905163e-06"
            ]
          },
          "metadata": {},
          "execution_count": 62
        }
      ]
    },
    {
      "cell_type": "code",
      "source": [],
      "metadata": {
        "id": "9CitAcolKtAI"
      },
      "execution_count": null,
      "outputs": []
    }
  ]
}