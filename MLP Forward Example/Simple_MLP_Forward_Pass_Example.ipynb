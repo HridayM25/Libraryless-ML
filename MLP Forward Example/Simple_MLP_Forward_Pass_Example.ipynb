{
  "nbformat": 4,
  "nbformat_minor": 0,
  "metadata": {
    "colab": {
      "provenance": []
    },
    "kernelspec": {
      "name": "python3",
      "display_name": "Python 3"
    },
    "language_info": {
      "name": "python"
    }
  },
  "cells": [
    {
      "cell_type": "code",
      "source": [
        "import time\n",
        "import numpy as np"
      ],
      "metadata": {
        "id": "CLdn8lZGQbNT"
      },
      "execution_count": 1,
      "outputs": []
    },
    {
      "cell_type": "code",
      "execution_count": 2,
      "metadata": {
        "id": "uEQXIZ3Y0xrj"
      },
      "outputs": [],
      "source": [
        "def derivative(value):\n",
        "  step=0.000001\n",
        "  return (function(value+step) - function(value-step))/(2*step)"
      ]
    },
    {
      "cell_type": "code",
      "source": [
        "def function(x):\n",
        "  value=x\n",
        "  return value**2 - 2*value + 5"
      ],
      "metadata": {
        "id": "ieJ0SvVnHp_z"
      },
      "execution_count": 3,
      "outputs": []
    },
    {
      "cell_type": "code",
      "source": [
        "def get_random():\n",
        "  current_time=time.time()\n",
        "  return current_time - int(current_time)"
      ],
      "metadata": {
        "id": "MHHsOKOTQnKl"
      },
      "execution_count": 8,
      "outputs": []
    },
    {
      "cell_type": "code",
      "source": [
        "e=2.71828\n",
        "def sigmoid(value):\n",
        "  return 1/(1+e**(-1*value))"
      ],
      "metadata": {
        "id": "yKpQ99z0RBZQ"
      },
      "execution_count": 5,
      "outputs": []
    },
    {
      "cell_type": "code",
      "source": [
        "#2 layers mdp\n",
        "layer1_units= 3\n",
        "layer2_units= 2\n",
        "final_layer=1"
      ],
      "metadata": {
        "id": "DRe3sIlfI6LZ"
      },
      "execution_count": 6,
      "outputs": []
    },
    {
      "cell_type": "code",
      "source": [
        "weights1=[[get_random() for x in range(layer2_units)] for y in range(layer1_units)]\n",
        "bias1=[get_random() for x in range(layer2_units)]\n",
        "weights2=[[get_random() for x in range(final_layer)] for y in range(layer2_units)]\n",
        "bias2=[get_random() for x in range(final_layer)]"
      ],
      "metadata": {
        "id": "XL7FS8SoLwLR"
      },
      "execution_count": 40,
      "outputs": []
    },
    {
      "cell_type": "code",
      "source": [
        "#lets try with 10 training examples?\n",
        "#first code for 1\n",
        "training_example=[x for x in range(1,4)]"
      ],
      "metadata": {
        "id": "0p8XRCihSTKo"
      },
      "execution_count": 12,
      "outputs": []
    },
    {
      "cell_type": "code",
      "source": [
        "training_example"
      ],
      "metadata": {
        "id": "8ACRq71xTSV5",
        "colab": {
          "base_uri": "https://localhost:8080/"
        },
        "outputId": "9b783e84-9af9-421d-b3e5-baed20ad275f"
      },
      "execution_count": 13,
      "outputs": [
        {
          "output_type": "execute_result",
          "data": {
            "text/plain": [
              "[1, 2, 3]"
            ]
          },
          "metadata": {},
          "execution_count": 13
        }
      ]
    },
    {
      "cell_type": "code",
      "source": [
        "weights1"
      ],
      "metadata": {
        "colab": {
          "base_uri": "https://localhost:8080/"
        },
        "id": "FFuJp_fwzqd_",
        "outputId": "bd17b18b-9bd0-451a-edee-7ddca52ef3bb"
      },
      "execution_count": 41,
      "outputs": [
        {
          "output_type": "execute_result",
          "data": {
            "text/plain": [
              "[[0.6414930820465088, 0.6414961814880371],\n",
              " [0.6414978504180908, 0.641498327255249],\n",
              " [0.6414992809295654, 0.6415002346038818]]"
            ]
          },
          "metadata": {},
          "execution_count": 41
        }
      ]
    },
    {
      "cell_type": "code",
      "source": [
        "act1=[]\n",
        "for j in range(layer2_units):\n",
        "  sum=0\n",
        "  for i in range(layer1_units) :\n",
        "    sum+=(training_example[i]*weights1[i][j])\n",
        "  act1.append(sum)\n"
      ],
      "metadata": {
        "id": "H2ZVWBSwz5X4"
      },
      "execution_count": 42,
      "outputs": []
    },
    {
      "cell_type": "code",
      "source": [
        "for i in range(len(act1)):\n",
        "  act1[i]+=bias1[i]\n",
        "for i in range(len(act1)):\n",
        "  act1[i]=sigmoid(act1[i])"
      ],
      "metadata": {
        "id": "qtgqhSuh1k4_"
      },
      "execution_count": 43,
      "outputs": []
    },
    {
      "cell_type": "code",
      "source": [
        "act2=[]\n",
        "for j in range(final_layer):\n",
        "  sum=0\n",
        "  for i in range(len(act1)):\n",
        "    sum+=(act1[i]*weights2[i][j])\n",
        "  act2.append(sum)"
      ],
      "metadata": {
        "id": "8b-1fWVv2bZO"
      },
      "execution_count": 44,
      "outputs": []
    },
    {
      "cell_type": "code",
      "source": [
        "for i in range(len(act2)):\n",
        "  act2[i]=sigmoid(act2[i])"
      ],
      "metadata": {
        "id": "a34r9Yno3L60"
      },
      "execution_count": 49,
      "outputs": []
    },
    {
      "cell_type": "code",
      "source": [],
      "metadata": {
        "id": "FXJ0QYlv4NRk"
      },
      "execution_count": null,
      "outputs": []
    }
  ]
}