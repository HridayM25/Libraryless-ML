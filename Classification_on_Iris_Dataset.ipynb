{
  "nbformat": 4,
  "nbformat_minor": 0,
  "metadata": {
    "colab": {
      "provenance": []
    },
    "kernelspec": {
      "name": "python3",
      "display_name": "Python 3"
    },
    "language_info": {
      "name": "python"
    }
  },
  "cells": [
    {
      "cell_type": "code",
      "source": [
        "#Have used this library only for the Iris Dataset, no further use of it\n",
        "from sklearn import datasets\n",
        "iris=datasets.load_iris()\n",
        "X=iris.data\n",
        "y=iris.target"
      ],
      "metadata": {
        "id": "FcGYlYQEXSpC"
      },
      "execution_count": 100,
      "outputs": []
    },
    {
      "cell_type": "code",
      "source": [
        "import time"
      ],
      "metadata": {
        "id": "c_i8lCz8eCwK"
      },
      "execution_count": 101,
      "outputs": []
    },
    {
      "cell_type": "code",
      "source": [
        "#Randomly will add +/- 2 whenever called\n",
        "def random_gen():\n",
        "  current=time.time()\n",
        "  last_digit=int(str(current-int(current))[-1])\n",
        "  if last_digit%2==0:\n",
        "    return 2\n",
        "  else:\n",
        "    return -1*2"
      ],
      "metadata": {
        "id": "TtM1DrE-eHng"
      },
      "execution_count": 102,
      "outputs": []
    },
    {
      "cell_type": "code",
      "source": [
        "#for ease\n",
        "r=random_gen()"
      ],
      "metadata": {
        "id": "fxT3r14pesiF"
      },
      "execution_count": 103,
      "outputs": []
    },
    {
      "cell_type": "code",
      "source": [
        "#Convert both variables to list since originally they are ndarrays\n",
        "X=X.tolist()\n",
        "y=y.tolist()"
      ],
      "metadata": {
        "id": "myvWNLSoXbcc"
      },
      "execution_count": 104,
      "outputs": []
    },
    {
      "cell_type": "code",
      "source": [
        "print(\"The number of training examples are : \" + str(len(X)))\n",
        "print(\"The number of attributes/features are : \" + str(len(X[0])))\n",
        "print(\"The number of unique classes are : \" + str(len(set(y))))"
      ],
      "metadata": {
        "colab": {
          "base_uri": "https://localhost:8080/"
        },
        "id": "zh1IyoIdYx0l",
        "outputId": "1f5e33ae-e1b9-49d2-c358-02769a22c910"
      },
      "execution_count": 105,
      "outputs": [
        {
          "output_type": "stream",
          "name": "stdout",
          "text": [
            "The number of training examples are : 150\n",
            "The number of attributes/features are : 4\n",
            "The number of unique classes are : 3\n"
          ]
        }
      ]
    },
    {
      "cell_type": "code",
      "source": [
        "#For 3 unique classes, the problem is multi-class classification. Hence we can structure our architecture such that the output layer have 3 neurons for softmax."
      ],
      "metadata": {
        "id": "ZNJMk62Go8Z5"
      },
      "execution_count": 7,
      "outputs": []
    },
    {
      "cell_type": "code",
      "source": [
        "X"
      ],
      "metadata": {
        "colab": {
          "base_uri": "https://localhost:8080/"
        },
        "id": "Q5cvB7W3YLPq",
        "outputId": "953974b0-85a0-4871-cd56-116ddd8d9310"
      },
      "execution_count": 8,
      "outputs": [
        {
          "output_type": "execute_result",
          "data": {
            "text/plain": [
              "[[5.1, 3.5, 1.4, 0.2],\n",
              " [4.9, 3.0, 1.4, 0.2],\n",
              " [4.7, 3.2, 1.3, 0.2],\n",
              " [4.6, 3.1, 1.5, 0.2],\n",
              " [5.0, 3.6, 1.4, 0.2],\n",
              " [5.4, 3.9, 1.7, 0.4],\n",
              " [4.6, 3.4, 1.4, 0.3],\n",
              " [5.0, 3.4, 1.5, 0.2],\n",
              " [4.4, 2.9, 1.4, 0.2],\n",
              " [4.9, 3.1, 1.5, 0.1],\n",
              " [5.4, 3.7, 1.5, 0.2],\n",
              " [4.8, 3.4, 1.6, 0.2],\n",
              " [4.8, 3.0, 1.4, 0.1],\n",
              " [4.3, 3.0, 1.1, 0.1],\n",
              " [5.8, 4.0, 1.2, 0.2],\n",
              " [5.7, 4.4, 1.5, 0.4],\n",
              " [5.4, 3.9, 1.3, 0.4],\n",
              " [5.1, 3.5, 1.4, 0.3],\n",
              " [5.7, 3.8, 1.7, 0.3],\n",
              " [5.1, 3.8, 1.5, 0.3],\n",
              " [5.4, 3.4, 1.7, 0.2],\n",
              " [5.1, 3.7, 1.5, 0.4],\n",
              " [4.6, 3.6, 1.0, 0.2],\n",
              " [5.1, 3.3, 1.7, 0.5],\n",
              " [4.8, 3.4, 1.9, 0.2],\n",
              " [5.0, 3.0, 1.6, 0.2],\n",
              " [5.0, 3.4, 1.6, 0.4],\n",
              " [5.2, 3.5, 1.5, 0.2],\n",
              " [5.2, 3.4, 1.4, 0.2],\n",
              " [4.7, 3.2, 1.6, 0.2],\n",
              " [4.8, 3.1, 1.6, 0.2],\n",
              " [5.4, 3.4, 1.5, 0.4],\n",
              " [5.2, 4.1, 1.5, 0.1],\n",
              " [5.5, 4.2, 1.4, 0.2],\n",
              " [4.9, 3.1, 1.5, 0.2],\n",
              " [5.0, 3.2, 1.2, 0.2],\n",
              " [5.5, 3.5, 1.3, 0.2],\n",
              " [4.9, 3.6, 1.4, 0.1],\n",
              " [4.4, 3.0, 1.3, 0.2],\n",
              " [5.1, 3.4, 1.5, 0.2],\n",
              " [5.0, 3.5, 1.3, 0.3],\n",
              " [4.5, 2.3, 1.3, 0.3],\n",
              " [4.4, 3.2, 1.3, 0.2],\n",
              " [5.0, 3.5, 1.6, 0.6],\n",
              " [5.1, 3.8, 1.9, 0.4],\n",
              " [4.8, 3.0, 1.4, 0.3],\n",
              " [5.1, 3.8, 1.6, 0.2],\n",
              " [4.6, 3.2, 1.4, 0.2],\n",
              " [5.3, 3.7, 1.5, 0.2],\n",
              " [5.0, 3.3, 1.4, 0.2],\n",
              " [7.0, 3.2, 4.7, 1.4],\n",
              " [6.4, 3.2, 4.5, 1.5],\n",
              " [6.9, 3.1, 4.9, 1.5],\n",
              " [5.5, 2.3, 4.0, 1.3],\n",
              " [6.5, 2.8, 4.6, 1.5],\n",
              " [5.7, 2.8, 4.5, 1.3],\n",
              " [6.3, 3.3, 4.7, 1.6],\n",
              " [4.9, 2.4, 3.3, 1.0],\n",
              " [6.6, 2.9, 4.6, 1.3],\n",
              " [5.2, 2.7, 3.9, 1.4],\n",
              " [5.0, 2.0, 3.5, 1.0],\n",
              " [5.9, 3.0, 4.2, 1.5],\n",
              " [6.0, 2.2, 4.0, 1.0],\n",
              " [6.1, 2.9, 4.7, 1.4],\n",
              " [5.6, 2.9, 3.6, 1.3],\n",
              " [6.7, 3.1, 4.4, 1.4],\n",
              " [5.6, 3.0, 4.5, 1.5],\n",
              " [5.8, 2.7, 4.1, 1.0],\n",
              " [6.2, 2.2, 4.5, 1.5],\n",
              " [5.6, 2.5, 3.9, 1.1],\n",
              " [5.9, 3.2, 4.8, 1.8],\n",
              " [6.1, 2.8, 4.0, 1.3],\n",
              " [6.3, 2.5, 4.9, 1.5],\n",
              " [6.1, 2.8, 4.7, 1.2],\n",
              " [6.4, 2.9, 4.3, 1.3],\n",
              " [6.6, 3.0, 4.4, 1.4],\n",
              " [6.8, 2.8, 4.8, 1.4],\n",
              " [6.7, 3.0, 5.0, 1.7],\n",
              " [6.0, 2.9, 4.5, 1.5],\n",
              " [5.7, 2.6, 3.5, 1.0],\n",
              " [5.5, 2.4, 3.8, 1.1],\n",
              " [5.5, 2.4, 3.7, 1.0],\n",
              " [5.8, 2.7, 3.9, 1.2],\n",
              " [6.0, 2.7, 5.1, 1.6],\n",
              " [5.4, 3.0, 4.5, 1.5],\n",
              " [6.0, 3.4, 4.5, 1.6],\n",
              " [6.7, 3.1, 4.7, 1.5],\n",
              " [6.3, 2.3, 4.4, 1.3],\n",
              " [5.6, 3.0, 4.1, 1.3],\n",
              " [5.5, 2.5, 4.0, 1.3],\n",
              " [5.5, 2.6, 4.4, 1.2],\n",
              " [6.1, 3.0, 4.6, 1.4],\n",
              " [5.8, 2.6, 4.0, 1.2],\n",
              " [5.0, 2.3, 3.3, 1.0],\n",
              " [5.6, 2.7, 4.2, 1.3],\n",
              " [5.7, 3.0, 4.2, 1.2],\n",
              " [5.7, 2.9, 4.2, 1.3],\n",
              " [6.2, 2.9, 4.3, 1.3],\n",
              " [5.1, 2.5, 3.0, 1.1],\n",
              " [5.7, 2.8, 4.1, 1.3],\n",
              " [6.3, 3.3, 6.0, 2.5],\n",
              " [5.8, 2.7, 5.1, 1.9],\n",
              " [7.1, 3.0, 5.9, 2.1],\n",
              " [6.3, 2.9, 5.6, 1.8],\n",
              " [6.5, 3.0, 5.8, 2.2],\n",
              " [7.6, 3.0, 6.6, 2.1],\n",
              " [4.9, 2.5, 4.5, 1.7],\n",
              " [7.3, 2.9, 6.3, 1.8],\n",
              " [6.7, 2.5, 5.8, 1.8],\n",
              " [7.2, 3.6, 6.1, 2.5],\n",
              " [6.5, 3.2, 5.1, 2.0],\n",
              " [6.4, 2.7, 5.3, 1.9],\n",
              " [6.8, 3.0, 5.5, 2.1],\n",
              " [5.7, 2.5, 5.0, 2.0],\n",
              " [5.8, 2.8, 5.1, 2.4],\n",
              " [6.4, 3.2, 5.3, 2.3],\n",
              " [6.5, 3.0, 5.5, 1.8],\n",
              " [7.7, 3.8, 6.7, 2.2],\n",
              " [7.7, 2.6, 6.9, 2.3],\n",
              " [6.0, 2.2, 5.0, 1.5],\n",
              " [6.9, 3.2, 5.7, 2.3],\n",
              " [5.6, 2.8, 4.9, 2.0],\n",
              " [7.7, 2.8, 6.7, 2.0],\n",
              " [6.3, 2.7, 4.9, 1.8],\n",
              " [6.7, 3.3, 5.7, 2.1],\n",
              " [7.2, 3.2, 6.0, 1.8],\n",
              " [6.2, 2.8, 4.8, 1.8],\n",
              " [6.1, 3.0, 4.9, 1.8],\n",
              " [6.4, 2.8, 5.6, 2.1],\n",
              " [7.2, 3.0, 5.8, 1.6],\n",
              " [7.4, 2.8, 6.1, 1.9],\n",
              " [7.9, 3.8, 6.4, 2.0],\n",
              " [6.4, 2.8, 5.6, 2.2],\n",
              " [6.3, 2.8, 5.1, 1.5],\n",
              " [6.1, 2.6, 5.6, 1.4],\n",
              " [7.7, 3.0, 6.1, 2.3],\n",
              " [6.3, 3.4, 5.6, 2.4],\n",
              " [6.4, 3.1, 5.5, 1.8],\n",
              " [6.0, 3.0, 4.8, 1.8],\n",
              " [6.9, 3.1, 5.4, 2.1],\n",
              " [6.7, 3.1, 5.6, 2.4],\n",
              " [6.9, 3.1, 5.1, 2.3],\n",
              " [5.8, 2.7, 5.1, 1.9],\n",
              " [6.8, 3.2, 5.9, 2.3],\n",
              " [6.7, 3.3, 5.7, 2.5],\n",
              " [6.7, 3.0, 5.2, 2.3],\n",
              " [6.3, 2.5, 5.0, 1.9],\n",
              " [6.5, 3.0, 5.2, 2.0],\n",
              " [6.2, 3.4, 5.4, 2.3],\n",
              " [5.9, 3.0, 5.1, 1.8]]"
            ]
          },
          "metadata": {},
          "execution_count": 8
        }
      ]
    },
    {
      "cell_type": "code",
      "source": [
        "#Choose architecture here:\n",
        "num_layers = 5\n",
        "#That implies 1 input layer, 4 hidden layers, and 1 output layer\n",
        "no_of_neurons=[4,5,4,3,4]\n",
        "final_layer=(len(set(y)))\n",
        "no_of_neurons.append(final_layer)\n",
        "n=no_of_neurons"
      ],
      "metadata": {
        "id": "9m1jLSMlYMw3"
      },
      "execution_count": 9,
      "outputs": []
    },
    {
      "cell_type": "code",
      "source": [
        "n"
      ],
      "metadata": {
        "colab": {
          "base_uri": "https://localhost:8080/"
        },
        "id": "YIPWrPH-pS5N",
        "outputId": "ce6c0020-9818-421e-837d-0c67f74b0957"
      },
      "execution_count": 10,
      "outputs": [
        {
          "output_type": "execute_result",
          "data": {
            "text/plain": [
              "[4, 5, 4, 3, 4, 3]"
            ]
          },
          "metadata": {},
          "execution_count": 10
        }
      ]
    },
    {
      "cell_type": "code",
      "source": [
        "#define the weights here:\n",
        "Weights=[]\n",
        "for i in range(len(n)-1):\n",
        "  current=time.time()\n",
        "  m=int(str(current-int(current))[-1])\n",
        "  Weights.append([[(m/10 + random_gen())/10 for x in range(n[i+1])] for y in range(n[i])])"
      ],
      "metadata": {
        "id": "FoEb5IRwaMwz"
      },
      "execution_count": 85,
      "outputs": []
    },
    {
      "cell_type": "code",
      "source": [
        "#define the biases here:\n",
        "Biases=[]\n",
        "for i in range(len(n)-1):\n",
        "  current=time.time()\n",
        "  m=int(str(current-int(current))[-1])\n",
        "  Biases.append([(m/10+ random_gen())/10 for x in range(n[i+1])])"
      ],
      "metadata": {
        "id": "MhoFk4usblUO"
      },
      "execution_count": 86,
      "outputs": []
    },
    {
      "cell_type": "code",
      "source": [
        "#define the gradients of weights here:\n",
        "Weights_Grad=[]\n",
        "for i in range(len(n)-1):\n",
        "  Weights_Grad.append([[0 for x in range(n[i+1])] for y in range(n[i])])"
      ],
      "metadata": {
        "id": "Hig6reaWh4dy"
      },
      "execution_count": 87,
      "outputs": []
    },
    {
      "cell_type": "code",
      "source": [
        "#define the activations here\n",
        "Activations=[]\n",
        "for i in range(len(n)-1):\n",
        "  Activations.append([0 for x in range(n[i+1])])"
      ],
      "metadata": {
        "id": "GwXJzIFBiv1e"
      },
      "execution_count": 88,
      "outputs": []
    },
    {
      "cell_type": "code",
      "source": [
        "Weights"
      ],
      "metadata": {
        "colab": {
          "base_uri": "https://localhost:8080/"
        },
        "id": "uedi1p6CgRFF",
        "outputId": "b4bd255a-c193-49f3-f228-2f46a9239af2"
      },
      "execution_count": 89,
      "outputs": [
        {
          "output_type": "execute_result",
          "data": {
            "text/plain": [
              "[[[0.24, 0.24, -0.16, -0.16, -0.16],\n",
              "  [0.24, -0.16, -0.16, -0.16, -0.16],\n",
              "  [0.24, -0.16, 0.24, -0.16, -0.16],\n",
              "  [0.24, -0.16, -0.16, -0.16, 0.24]],\n",
              " [[-0.16, -0.16, -0.16, 0.24],\n",
              "  [-0.16, 0.24, 0.24, 0.24],\n",
              "  [-0.16, -0.16, -0.16, -0.16],\n",
              "  [-0.16, 0.24, -0.16, 0.24],\n",
              "  [-0.16, -0.16, -0.16, -0.16]],\n",
              " [[0.25, -0.15, 0.25],\n",
              "  [-0.15, -0.15, -0.15],\n",
              "  [0.25, -0.15, 0.25],\n",
              "  [-0.15, -0.15, 0.25]],\n",
              " [[0.25, -0.15, -0.15, -0.15],\n",
              "  [0.25, -0.15, 0.25, -0.15],\n",
              "  [-0.15, 0.25, -0.15, -0.15]],\n",
              " [[-0.15, 0.25, -0.15],\n",
              "  [0.25, -0.15, 0.25],\n",
              "  [0.25, 0.25, 0.25],\n",
              "  [-0.15, 0.25, 0.25]]]"
            ]
          },
          "metadata": {},
          "execution_count": 89
        }
      ]
    },
    {
      "cell_type": "code",
      "source": [
        "Biases"
      ],
      "metadata": {
        "colab": {
          "base_uri": "https://localhost:8080/"
        },
        "id": "PwuX7v0ngXaX",
        "outputId": "122e544c-db3f-4f7d-9f27-1410e10b06f0"
      },
      "execution_count": 90,
      "outputs": [
        {
          "output_type": "execute_result",
          "data": {
            "text/plain": [
              "[[0.26,\n",
              "  0.26,\n",
              "  -0.13999999999999999,\n",
              "  -0.13999999999999999,\n",
              "  -0.13999999999999999],\n",
              " [-0.13, -0.13, 0.27, -0.13],\n",
              " [0.25, 0.25, -0.15],\n",
              " [-0.19, 0.21000000000000002, -0.19, -0.19],\n",
              " [0.24, -0.16, -0.16]]"
            ]
          },
          "metadata": {},
          "execution_count": 90
        }
      ]
    },
    {
      "cell_type": "code",
      "source": [
        "Weights_Grad"
      ],
      "metadata": {
        "colab": {
          "base_uri": "https://localhost:8080/"
        },
        "id": "WzoBzqRiiAnu",
        "outputId": "2d4d1791-7244-4c56-e1d8-6a380659513b"
      },
      "execution_count": 91,
      "outputs": [
        {
          "output_type": "execute_result",
          "data": {
            "text/plain": [
              "[[[0, 0, 0, 0, 0], [0, 0, 0, 0, 0], [0, 0, 0, 0, 0], [0, 0, 0, 0, 0]],\n",
              " [[0, 0, 0, 0], [0, 0, 0, 0], [0, 0, 0, 0], [0, 0, 0, 0], [0, 0, 0, 0]],\n",
              " [[0, 0, 0], [0, 0, 0], [0, 0, 0], [0, 0, 0]],\n",
              " [[0, 0, 0, 0], [0, 0, 0, 0], [0, 0, 0, 0]],\n",
              " [[0, 0, 0], [0, 0, 0], [0, 0, 0], [0, 0, 0]]]"
            ]
          },
          "metadata": {},
          "execution_count": 91
        }
      ]
    },
    {
      "cell_type": "code",
      "source": [
        "Activations"
      ],
      "metadata": {
        "colab": {
          "base_uri": "https://localhost:8080/"
        },
        "id": "7rcM23VNi-Ad",
        "outputId": "efd05f95-f29d-4b70-d5cf-642ae692469a"
      },
      "execution_count": 92,
      "outputs": [
        {
          "output_type": "execute_result",
          "data": {
            "text/plain": [
              "[[0, 0, 0, 0, 0], [0, 0, 0, 0], [0, 0, 0], [0, 0, 0, 0], [0, 0, 0]]"
            ]
          },
          "metadata": {},
          "execution_count": 92
        }
      ]
    },
    {
      "cell_type": "code",
      "source": [
        "w=Weights\n",
        "b=Biases\n",
        "w_grad=Weights_Grad\n",
        "a=Activations"
      ],
      "metadata": {
        "id": "ucAEGdmXjHfS"
      },
      "execution_count": 93,
      "outputs": []
    },
    {
      "cell_type": "code",
      "source": [
        "#Helper Functions defined here:\n",
        "\n",
        "#Function for natural log, later can be used for log base 10. Can also try the Taylor Definition, but this seemed easier. I will compare precision later.\n",
        "def ln(x):\n",
        "    n = 10000000.0\n",
        "    return n * ((x ** (1/n)) - 1)\n",
        "\n",
        "#Can convert to base 10\n",
        "def log(x):\n",
        "  return ln(x)/ln(10)\n",
        "\n",
        "#Function to calculate derivative of a function\n",
        "def derivative(value,function):\n",
        "  step=0.000001\n",
        "  return (function(value+step) - function(value-step))/(2*step)\n",
        "\n",
        "#Function to calculate the sigmoid\n",
        "e=2.71828\n",
        "def sigmoid(value):\n",
        "  return 1/(1+e**(-1*value))\n",
        "\n",
        "#Function to calculate the derivative of Binary Cross Entropy Loss\n",
        "def bce_loss_derivative(y_true,z):\n",
        "  return (y_true-z)/(z)*(1-z)\n",
        "\n",
        "#Function to calculate the derivative of the sigmoid function\n",
        "def sigmoid_derivative(value):\n",
        "  return sigmoid(value) * (1-sigmoid(value))\n",
        "\n",
        "#Function to calculate the Binary Cross Entropy Loss\n",
        "def bce_loss(value,y_true):\n",
        "  return -1*((y_true * log(value)) + ((1-y_true) * log(1-value)))\n",
        "\n",
        "#Function to calculate the softmax\n",
        "def softmax(layer):\n",
        "  sum=0\n",
        "  for i in range(len(layer)):\n",
        "    sum+= 2.71828**layer[i]\n",
        "  for i in range(len(layer)):\n",
        "    layer[i]=2.71828**layer[i]/sum\n",
        "\n",
        "#Function to calculate categorical loss\n",
        "def categorical_loss(layer,y_true):\n",
        "  loss=log(layer[y_true])\n",
        "  return loss"
      ],
      "metadata": {
        "id": "hs_DsIfPggMr"
      },
      "execution_count": 70,
      "outputs": []
    },
    {
      "cell_type": "code",
      "source": [
        "def forward_pass():\n",
        "  pass"
      ],
      "metadata": {
        "id": "8ibswfHohWPw"
      },
      "execution_count": 71,
      "outputs": []
    },
    {
      "cell_type": "code",
      "source": [
        "#Split the dataset into train and test, into a 7:3 ratio. Hence 105 for training and 45 for testing.\n",
        "\n",
        "#Slicing is done to make the problem easier for us and avoid any form of class imbalance.\n",
        "\n",
        "indices = [slice(0, 35), slice(50, 85), slice(100, 135)]\n",
        "test_indices=[slice(35,50), slice(85,100), slice(135,150)]\n",
        "X_train = []\n",
        "y_train=[]\n",
        "X_test=[]\n",
        "y_test=[]\n",
        "\n",
        "for id in indices:\n",
        "    X_train += X[id]\n",
        "    y_train += y[id]\n",
        "for id in test_indices:\n",
        "  X_test+= X[id]\n",
        "  y_test+= y[id]"
      ],
      "metadata": {
        "id": "dlBaI4DbjUAp"
      },
      "execution_count": 116,
      "outputs": []
    },
    {
      "cell_type": "code",
      "source": [
        "len(X_train), len(X_test)\n",
        "#Checks out!"
      ],
      "metadata": {
        "colab": {
          "base_uri": "https://localhost:8080/"
        },
        "id": "A_bEPZYjoG2P",
        "outputId": "3dc4e2ec-2251-425e-daf0-2c54b27e4fa4"
      },
      "execution_count": 107,
      "outputs": [
        {
          "output_type": "execute_result",
          "data": {
            "text/plain": [
              "(105, 45)"
            ]
          },
          "metadata": {},
          "execution_count": 107
        }
      ]
    },
    {
      "cell_type": "code",
      "source": [
        "count0=y.count(0)\n",
        "count1=y.count(1)\n",
        "count2=y.count(2)"
      ],
      "metadata": {
        "id": "NU1i56K2jpia"
      },
      "execution_count": 108,
      "outputs": []
    },
    {
      "cell_type": "code",
      "source": [
        "count0,count1,count2\n",
        "#(0-49) , (50,99) , (100,149)"
      ],
      "metadata": {
        "colab": {
          "base_uri": "https://localhost:8080/"
        },
        "id": "VOHYxTdpkMMc",
        "outputId": "79f68ea3-8178-4234-982e-f0785b77d62d"
      },
      "execution_count": 109,
      "outputs": [
        {
          "output_type": "execute_result",
          "data": {
            "text/plain": [
              "(50, 50, 50)"
            ]
          },
          "metadata": {},
          "execution_count": 109
        }
      ]
    },
    {
      "cell_type": "code",
      "source": [
        "y_max=max(n)+2\n",
        "x_max=3*len(n)\n",
        "#Make a grid of these dimensions"
      ],
      "metadata": {
        "id": "3GwGlSJemaLx"
      },
      "execution_count": 76,
      "outputs": []
    },
    {
      "cell_type": "code",
      "source": [
        "#Try on the first layer\n",
        "t=X_train[0]\n",
        "input_layer=X_train[0]"
      ],
      "metadata": {
        "id": "HOwWtFgwqglA"
      },
      "execution_count": 118,
      "outputs": []
    },
    {
      "cell_type": "code",
      "source": [
        "#Forward Pass #1\n",
        "for i in range(len(n)-1):\n",
        "  for j in range(n[i+1]):\n",
        "    for k in range(n[i]):\n",
        "      a[i][j]+=w[i][k][j] * input_layer[k]\n",
        "    a[i][j] += b[i][j]\n",
        "    a[i][j] = sigmoid(a[i][j])\n",
        "  input_layer = a[i]\n",
        "output_layer=a[-1]\n",
        "softmax(output_layer)"
      ],
      "metadata": {
        "id": "dwyrGw6JtK7i"
      },
      "execution_count": 119,
      "outputs": []
    },
    {
      "cell_type": "code",
      "source": [
        "def forward_pass(message,true_label,X):\n",
        "  input_layer=X[message]\n",
        "  for i in range(len(n)-1):\n",
        "    for j in range(n[i+1]):\n",
        "      for k in range(n[i]):\n",
        "        a[i][j]+=w[i][k][j] * input_layer[k]\n",
        "      a[i][j] += b[i][j]\n",
        "      a[i][j] = sigmoid(a[i][j])\n",
        "    input_layer = a[i]\n",
        "  output_layer=a[-1]\n",
        "  softmax(output_layer)\n",
        "  loss=categorical_loss(output_layer,true_label)\n",
        "  for xx in range(len(a)):\n",
        "    for yy in range(len(a[x])):\n",
        "      a[xx][yy]=0\n",
        "  return loss\n",
        "\n",
        "def get_loss():\n",
        "  pass"
      ],
      "metadata": {
        "id": "cQQihKjw63pA"
      },
      "execution_count": 124,
      "outputs": []
    },
    {
      "cell_type": "code",
      "source": [
        "net_loss=0\n",
        "for message in range(len(X_train)):\n",
        "  net_loss+=forward_pass(message,y_train[message],X_train)"
      ],
      "metadata": {
        "id": "MxcTzxEtwtH3"
      },
      "execution_count": 125,
      "outputs": []
    },
    {
      "cell_type": "code",
      "source": [
        "net_loss"
      ],
      "metadata": {
        "colab": {
          "base_uri": "https://localhost:8080/"
        },
        "id": "eA-OkUBvZKUz",
        "outputId": "d625f496-c6fe-44ff-dd68-32113bad98d7"
      },
      "execution_count": 127,
      "outputs": [
        {
          "output_type": "execute_result",
          "data": {
            "text/plain": [
              "-50.11028249568721"
            ]
          },
          "metadata": {},
          "execution_count": 127
        }
      ]
    },
    {
      "cell_type": "code",
      "source": [],
      "metadata": {
        "id": "NXgsn8InZLei"
      },
      "execution_count": null,
      "outputs": []
    }
  ]
}